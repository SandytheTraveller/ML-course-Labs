{
 "cells": [
  {
   "cell_type": "markdown",
   "source": [
    "# Lecture 2: Notation, Scikit and Feature Engineering\n",
    "\n",
    "## Notation in Numpy"
   ],
   "metadata": {
    "collapsed": false
   },
   "id": "d3b5eea9fa5b5b66"
  },
  {
   "cell_type": "code",
   "outputs": [],
   "source": [
    "import numpy as np"
   ],
   "metadata": {
    "collapsed": true,
    "ExecuteTime": {
     "end_time": "2024-04-02T14:10:23.028768Z",
     "start_time": "2024-04-02T14:10:22.880605Z"
    }
   },
   "id": "initial_id",
   "execution_count": 1
  },
  {
   "cell_type": "markdown",
   "source": [
    "### Scalar\n",
    "\n",
    "Numpy is the most important package for linear algebra, fast array - vector - operations and primitives.\n",
    "But, in Numpy there is no specific data type for scalars, rather we use the standard data types for integer and float in Python."
   ],
   "metadata": {
    "collapsed": false
   },
   "id": "18b63fbcacb1a052"
  },
  {
   "cell_type": "code",
   "outputs": [],
   "source": [
    "a = 3.5 # connect the name to the object\n",
    "w = 10"
   ],
   "metadata": {
    "collapsed": false,
    "ExecuteTime": {
     "end_time": "2024-04-02T14:10:23.808076Z",
     "start_time": "2024-04-02T14:10:23.803626Z"
    }
   },
   "id": "b5a7a75aa7bd87dc",
   "execution_count": 2
  },
  {
   "cell_type": "markdown",
   "source": [
    "### Vector\n",
    "\n",
    "To create a vector we use the array() function (this function takes the list and transforms it to the vector). By this function we can create any n-dimensional array, e.g. matrix and tensors. Numpy uses a ROW representation for vector, the opposite w.r.t. to the notation, but it is only the matter of transposing."
   ],
   "metadata": {
    "collapsed": false
   },
   "id": "f36cf481d587fbc6"
  },
  {
   "cell_type": "code",
   "outputs": [],
   "source": [
    "w_vec = np.array([1, 2, 3, 4.5])"
   ],
   "metadata": {
    "collapsed": false,
    "ExecuteTime": {
     "end_time": "2024-04-02T14:10:23.865757Z",
     "start_time": "2024-04-02T14:10:23.862599Z"
    }
   },
   "id": "964709586ff41594",
   "execution_count": 3
  },
  {
   "cell_type": "markdown",
   "source": [
    "Since at least one of the scalars in the vector is a float, the dtype of the vector is float64, i.e. each element of the vector is a float."
   ],
   "metadata": {
    "collapsed": false
   },
   "id": "f032312e05b19fd4"
  },
  {
   "cell_type": "code",
   "outputs": [
    {
     "data": {
      "text/plain": "dtype('float64')"
     },
     "execution_count": 4,
     "metadata": {},
     "output_type": "execute_result"
    }
   ],
   "source": [
    "w_vec.dtype"
   ],
   "metadata": {
    "collapsed": false,
    "ExecuteTime": {
     "end_time": "2024-04-02T14:10:23.968622Z",
     "start_time": "2024-04-02T14:10:23.963178Z"
    }
   },
   "id": "7a5ee09df57194ba",
   "execution_count": 4
  },
  {
   "cell_type": "markdown",
   "source": [
    "An array is basically a list, so it supports most of the basic operations on the list, e.g. indexing and slicing (we take subvector from the vector)."
   ],
   "metadata": {
    "collapsed": false
   },
   "id": "4713c634c0be6e75"
  },
  {
   "cell_type": "code",
   "outputs": [
    {
     "data": {
      "text/plain": "2.0"
     },
     "execution_count": 5,
     "metadata": {},
     "output_type": "execute_result"
    }
   ],
   "source": [
    "w_vec[1] # we are indexing the second element / second dimension of the vector w_vec"
   ],
   "metadata": {
    "collapsed": false,
    "ExecuteTime": {
     "end_time": "2024-04-02T14:10:24.028187Z",
     "start_time": "2024-04-02T14:10:24.022761Z"
    }
   },
   "id": "3de5a577bca75e4b",
   "execution_count": 5
  },
  {
   "cell_type": "code",
   "outputs": [
    {
     "data": {
      "text/plain": "array([2., 3.])"
     },
     "execution_count": 6,
     "metadata": {},
     "output_type": "execute_result"
    }
   ],
   "source": [
    "w_vec[1:3] # we are taking a subvector starting from index 1 and ending at index 2 included"
   ],
   "metadata": {
    "collapsed": false,
    "ExecuteTime": {
     "end_time": "2024-04-02T14:10:24.112089Z",
     "start_time": "2024-04-02T14:10:24.104448Z"
    }
   },
   "id": "a1d824fe92673673",
   "execution_count": 6
  },
  {
   "cell_type": "markdown",
   "source": [
    "### Matrix\n",
    "\n",
    "The function array() can also create matrices intended as a 2-dimensional arrays with nested brackets. To create a n*d matrix, we must stack n rows of d-dimensional vectors."
   ],
   "metadata": {
    "collapsed": false
   },
   "id": "8bc056ff02b5c90a"
  },
  {
   "cell_type": "code",
   "outputs": [
    {
     "data": {
      "text/plain": "array([[1. , 4. , 7. ],\n       [4.9, 4. , 2. ]])"
     },
     "execution_count": 7,
     "metadata": {},
     "output_type": "execute_result"
    }
   ],
   "source": [
    "W = np.array([\n",
    "    [1, 4, 7],\n",
    "    [4.9, 4, 2]\n",
    "])\n",
    "# 2 x 3 matrix\n",
    "W"
   ],
   "metadata": {
    "collapsed": false,
    "ExecuteTime": {
     "end_time": "2024-04-02T14:10:24.168703Z",
     "start_time": "2024-04-02T14:10:24.164210Z"
    }
   },
   "id": "3066a403bf3eca32",
   "execution_count": 7
  },
  {
   "cell_type": "markdown",
   "source": [
    "To select a specific row with index j, we use the standard indexing and slicing operations. The same holds for selecting columns."
   ],
   "metadata": {
    "collapsed": false
   },
   "id": "f184953fa5fafaa"
  },
  {
   "cell_type": "code",
   "outputs": [
    {
     "data": {
      "text/plain": "(array([1., 4., 7.]), array([1., 4., 7.]))"
     },
     "execution_count": 8,
     "metadata": {},
     "output_type": "execute_result"
    }
   ],
   "source": [
    "W[0][:], W[0, :] # select row with index 0"
   ],
   "metadata": {
    "collapsed": false,
    "ExecuteTime": {
     "end_time": "2024-04-02T14:10:24.286718Z",
     "start_time": "2024-04-02T14:10:24.282834Z"
    }
   },
   "id": "62fc8157ac9e0d79",
   "execution_count": 8
  },
  {
   "cell_type": "code",
   "outputs": [
    {
     "data": {
      "text/plain": "array([[1. , 4. ],\n       [4.9, 4. ]])"
     },
     "execution_count": 9,
     "metadata": {},
     "output_type": "execute_result"
    }
   ],
   "source": [
    "W[:, :2] # select submatrix"
   ],
   "metadata": {
    "collapsed": false,
    "ExecuteTime": {
     "end_time": "2024-04-02T14:10:24.329315Z",
     "start_time": "2024-04-02T14:10:24.323907Z"
    }
   },
   "id": "172a022b245da6f",
   "execution_count": 9
  },
  {
   "cell_type": "code",
   "outputs": [
    {
     "data": {
      "text/plain": "array([4., 4.])"
     },
     "execution_count": 10,
     "metadata": {},
     "output_type": "execute_result"
    }
   ],
   "source": [
    "W[:, 1] # select column with index 1"
   ],
   "metadata": {
    "collapsed": false,
    "ExecuteTime": {
     "end_time": "2024-04-02T14:10:24.456912Z",
     "start_time": "2024-04-02T14:10:24.451460Z"
    }
   },
   "id": "58a6ab6615920db3",
   "execution_count": 10
  },
  {
   "cell_type": "markdown",
   "source": [
    "### Shape\n",
    "\n",
    "The shape of an array returns the number of scalars for each dimension. We can access the shape of an array by the attribute shape. Sort of debugging function to check if we have appropriate dimensions."
   ],
   "metadata": {
    "collapsed": false
   },
   "id": "9809528d26aae993"
  },
  {
   "cell_type": "code",
   "outputs": [
    {
     "data": {
      "text/plain": "((2, 3), (4,))"
     },
     "execution_count": 11,
     "metadata": {},
     "output_type": "execute_result"
    }
   ],
   "source": [
    "W.shape, w_vec.shape"
   ],
   "metadata": {
    "collapsed": false,
    "ExecuteTime": {
     "end_time": "2024-04-02T14:10:24.504406Z",
     "start_time": "2024-04-02T14:10:24.499909Z"
    }
   },
   "id": "8d37c2dff4ffc4b",
   "execution_count": 11
  },
  {
   "cell_type": "markdown",
   "source": [
    "### Transpose\n",
    "\n",
    "The transpose of a vector or matrix can be obtained by the operator T."
   ],
   "metadata": {
    "collapsed": false
   },
   "id": "15058a77a41e68bf"
  },
  {
   "cell_type": "code",
   "outputs": [
    {
     "data": {
      "text/plain": "array([[1. , 4.9],\n       [4. , 4. ],\n       [7. , 2. ]])"
     },
     "execution_count": 12,
     "metadata": {},
     "output_type": "execute_result"
    }
   ],
   "source": [
    "W_T = W.T\n",
    "W_T"
   ],
   "metadata": {
    "collapsed": false,
    "ExecuteTime": {
     "end_time": "2024-04-02T14:10:24.638518Z",
     "start_time": "2024-04-02T14:10:24.634092Z"
    }
   },
   "id": "54ea42c2f5bc021f",
   "execution_count": 12
  },
  {
   "cell_type": "code",
   "outputs": [
    {
     "data": {
      "text/plain": "((2, 3), (3, 2))"
     },
     "execution_count": 13,
     "metadata": {},
     "output_type": "execute_result"
    }
   ],
   "source": [
    "W.shape, W_T.shape"
   ],
   "metadata": {
    "collapsed": false,
    "ExecuteTime": {
     "end_time": "2024-04-02T14:10:24.699406Z",
     "start_time": "2024-04-02T14:10:24.695241Z"
    }
   },
   "id": "bf2632654e708103",
   "execution_count": 13
  },
  {
   "cell_type": "markdown",
   "source": [
    "## Operations on Vectors and Matrices\n",
    "\n",
    "- Summing two vectors: x + y\n",
    "- Multiplying a vector by a scalar: a*x\n",
    "- Inner product of two vectors: x.dot(y) or np.dot(x, y)\n",
    "- Hadamard product of two vectors: x * y"
   ],
   "metadata": {
    "collapsed": false
   },
   "id": "81ad2400ccadd9e"
  },
  {
   "cell_type": "code",
   "outputs": [],
   "source": [
    "x_vec, y_vec = np.array([1, 2, 3, 4]), np.array([6, 7, 8, 9])"
   ],
   "metadata": {
    "collapsed": false,
    "ExecuteTime": {
     "end_time": "2024-04-02T14:10:24.803497Z",
     "start_time": "2024-04-02T14:10:24.798010Z"
    }
   },
   "id": "54c0ee9f1f750f44",
   "execution_count": 14
  },
  {
   "cell_type": "code",
   "outputs": [
    {
     "data": {
      "text/plain": "array([ 7,  9, 11, 13])"
     },
     "execution_count": 15,
     "metadata": {},
     "output_type": "execute_result"
    }
   ],
   "source": [
    "x_vec + y_vec"
   ],
   "metadata": {
    "collapsed": false,
    "ExecuteTime": {
     "end_time": "2024-04-02T14:10:24.846169Z",
     "start_time": "2024-04-02T14:10:24.839952Z"
    }
   },
   "id": "b1964090c82fa47f",
   "execution_count": 15
  },
  {
   "cell_type": "code",
   "outputs": [
    {
     "data": {
      "text/plain": "array([ 3.5,  7. , 10.5, 14. ])"
     },
     "execution_count": 16,
     "metadata": {},
     "output_type": "execute_result"
    }
   ],
   "source": [
    "a * x_vec"
   ],
   "metadata": {
    "collapsed": false,
    "ExecuteTime": {
     "end_time": "2024-04-02T14:10:24.966091Z",
     "start_time": "2024-04-02T14:10:24.960201Z"
    }
   },
   "id": "11e9b86fdf271c46",
   "execution_count": 16
  },
  {
   "cell_type": "code",
   "outputs": [
    {
     "data": {
      "text/plain": "array([3, 4, 5, 6])"
     },
     "execution_count": 17,
     "metadata": {},
     "output_type": "execute_result"
    }
   ],
   "source": [
    "# vector and scalar summation\n",
    "x_vec + 2"
   ],
   "metadata": {
    "collapsed": false,
    "ExecuteTime": {
     "end_time": "2024-04-02T14:10:24.986584Z",
     "start_time": "2024-04-02T14:10:24.982279Z"
    }
   },
   "id": "a6f43404e1b3e0a0",
   "execution_count": 17
  },
  {
   "cell_type": "code",
   "outputs": [
    {
     "data": {
      "text/plain": "(80, 80)"
     },
     "execution_count": 18,
     "metadata": {},
     "output_type": "execute_result"
    }
   ],
   "source": [
    "x_vec.dot(y_vec), np.dot(x_vec, y_vec)"
   ],
   "metadata": {
    "collapsed": false,
    "ExecuteTime": {
     "end_time": "2024-04-02T14:10:25.054676Z",
     "start_time": "2024-04-02T14:10:25.050048Z"
    }
   },
   "id": "275aeead9e277d85",
   "execution_count": 18
  },
  {
   "cell_type": "code",
   "outputs": [
    {
     "data": {
      "text/plain": "array([ 6, 14, 24, 36])"
     },
     "execution_count": 19,
     "metadata": {},
     "output_type": "execute_result"
    }
   ],
   "source": [
    "x_vec * y_vec"
   ],
   "metadata": {
    "collapsed": false,
    "ExecuteTime": {
     "end_time": "2024-04-02T14:10:25.166577Z",
     "start_time": "2024-04-02T14:10:25.159912Z"
    }
   },
   "id": "4893e5cae4a88a71",
   "execution_count": 19
  },
  {
   "cell_type": "markdown",
   "source": [
    "- Multiplying a matrix by a vector: M.dot(x) or M @ x\n",
    "- Multiplying two matrices: np.dot(M1, M2) or M1 @ M2"
   ],
   "metadata": {
    "collapsed": false
   },
   "id": "d45763e64c9cb390"
  },
  {
   "cell_type": "code",
   "outputs": [],
   "source": [
    "A = np.array([\n",
    "    [1, 0, 1],\n",
    "    [0, 2, 1]\n",
    "])"
   ],
   "metadata": {
    "collapsed": false,
    "ExecuteTime": {
     "end_time": "2024-04-02T14:10:25.259796Z",
     "start_time": "2024-04-02T14:10:25.255802Z"
    }
   },
   "id": "bb93feb19114cf63",
   "execution_count": 20
  },
  {
   "cell_type": "code",
   "outputs": [
    {
     "data": {
      "text/plain": "array([13. , 15.8])"
     },
     "execution_count": 21,
     "metadata": {},
     "output_type": "execute_result"
    }
   ],
   "source": [
    "W @ np.array([2, 1, 1])"
   ],
   "metadata": {
    "collapsed": false,
    "ExecuteTime": {
     "end_time": "2024-04-02T14:10:25.308242Z",
     "start_time": "2024-04-02T14:10:25.302167Z"
    }
   },
   "id": "763952fa219ea537",
   "execution_count": 21
  },
  {
   "cell_type": "code",
   "outputs": [
    {
     "data": {
      "text/plain": "((2, 3), (2, 3))"
     },
     "execution_count": 22,
     "metadata": {},
     "output_type": "execute_result"
    }
   ],
   "source": [
    "W.shape, A.shape"
   ],
   "metadata": {
    "collapsed": false,
    "ExecuteTime": {
     "end_time": "2024-04-02T14:10:25.405272Z",
     "start_time": "2024-04-02T14:10:25.400581Z"
    }
   },
   "id": "f371022775cfe680",
   "execution_count": 22
  },
  {
   "cell_type": "code",
   "outputs": [
    {
     "data": {
      "text/plain": "array([[ 8. , 15. ],\n       [ 6.9, 10. ]])"
     },
     "execution_count": 23,
     "metadata": {},
     "output_type": "execute_result"
    }
   ],
   "source": [
    "W @ A.T"
   ],
   "metadata": {
    "collapsed": false,
    "ExecuteTime": {
     "end_time": "2024-04-02T14:10:25.426315Z",
     "start_time": "2024-04-02T14:10:25.421669Z"
    }
   },
   "id": "c902364e63a9280",
   "execution_count": 23
  },
  {
   "cell_type": "code",
   "outputs": [
    {
     "data": {
      "text/plain": "array([[1. , 9.8, 5.9],\n       [4. , 8. , 8. ],\n       [7. , 4. , 9. ]])"
     },
     "execution_count": 24,
     "metadata": {},
     "output_type": "execute_result"
    }
   ],
   "source": [
    "W.T @ A"
   ],
   "metadata": {
    "collapsed": false,
    "ExecuteTime": {
     "end_time": "2024-04-02T14:10:25.466914Z",
     "start_time": "2024-04-02T14:10:25.460021Z"
    }
   },
   "id": "9b5a173229a88f54",
   "execution_count": 24
  },
  {
   "cell_type": "markdown",
   "source": [
    "In Numpy, there is no straightforward function to computer the maximum of a function f(a),, but we may exploit list comprehension."
   ],
   "metadata": {
    "collapsed": false
   },
   "id": "be66b28c541e4f75"
  },
  {
   "cell_type": "code",
   "outputs": [
    {
     "data": {
      "text/plain": "100.0"
     },
     "execution_count": 25,
     "metadata": {},
     "output_type": "execute_result"
    }
   ],
   "source": [
    "S = [2, 3, 0.5, 6, 1, -10]\n",
    "def f(a):\n",
    "    return a**2\n",
    "\n",
    "np.max([f(a) for a in S]) "
   ],
   "metadata": {
    "collapsed": false,
    "ExecuteTime": {
     "end_time": "2024-04-02T14:10:25.533178Z",
     "start_time": "2024-04-02T14:10:25.529015Z"
    }
   },
   "id": "64d5543d58112746",
   "execution_count": 25
  },
  {
   "cell_type": "code",
   "outputs": [
    {
     "data": {
      "text/plain": "-10"
     },
     "execution_count": 26,
     "metadata": {},
     "output_type": "execute_result"
    }
   ],
   "source": [
    "S[np.argmax([f(a) for a in S])]"
   ],
   "metadata": {
    "collapsed": false,
    "ExecuteTime": {
     "end_time": "2024-04-02T14:10:25.637467Z",
     "start_time": "2024-04-02T14:10:25.633354Z"
    }
   },
   "id": "6596bf1407646eb2",
   "execution_count": 26
  },
  {
   "cell_type": "markdown",
   "source": [
    "## Feature Engineering\n",
    "\n",
    "- numpy: for storing and manipulating multidimensional arrays\n",
    "- pandas: library built on top of numpy providing higher-level data manipulation tools\n",
    "- scikit-learn: main ml library for traditional algorithms\n",
    "- matplotlib: the most used library for data visualization\n",
    "\n",
    "We import them and check their version number by printing the __version__ attribute.\n",
    "By importing modules, we can use methods, classes and functions defined in the libraries."
   ],
   "metadata": {
    "collapsed": false
   },
   "id": "73bcc8a0b12e9a43"
  },
  {
   "cell_type": "code",
   "outputs": [],
   "source": [
    "import sklearn\n",
    "import numpy as np\n",
    "import pandas as pd\n",
    "import matplotlib as plt\n",
    "import scipy as sp\n",
    "\n",
    "from sklearn.preprocessing import StandardScaler, MinMaxScaler, OrdinalEncoder, OneHotEncoder, KBinsDiscretizer\n",
    "from sklearn.impute import SimpleImputer\n",
    "from sklearn.compose import ColumnTransformer\n",
    "from sklearn.pipeline import Pipeline"
   ],
   "metadata": {
    "collapsed": false,
    "ExecuteTime": {
     "end_time": "2024-04-02T14:10:27.284863Z",
     "start_time": "2024-04-02T14:10:25.701035Z"
    }
   },
   "id": "5d13b7325c48ceb3",
   "execution_count": 27
  },
  {
   "cell_type": "code",
   "outputs": [
    {
     "name": "stdout",
     "output_type": "stream",
     "text": [
      "1.26.4 2.2.1 1.4.1.post1 1.12.0 3.8.3\n"
     ]
    }
   ],
   "source": [
    "print(np.__version__, pd.__version__, sklearn.__version__, sp.__version__, plt.__version__)"
   ],
   "metadata": {
    "collapsed": false,
    "ExecuteTime": {
     "end_time": "2024-04-02T14:10:27.294885Z",
     "start_time": "2024-04-02T14:10:27.288657Z"
    }
   },
   "id": "e7114bd1de97082b",
   "execution_count": 28
  },
  {
   "cell_type": "markdown",
   "source": [
    "The most important library for machine learning is scikit-learn, a de-facto standard for developing ML-oriented projects. \n",
    "Pandas also plays an important part in data preprocessing."
   ],
   "metadata": {
    "collapsed": false
   },
   "id": "589d76006976b19b"
  },
  {
   "cell_type": "markdown",
   "source": [
    "### Loading data\n",
    "\n",
    "Before facing the different steps in data preprocessing, we get the data from a data source, a CSV file, organized as a table.\n",
    "\n",
    "We use the module pandas to get the data and transform the CSV file into a table, namely a DataFrame object. A DataFrame is an object modelling tabular data. It's made by rows and each row is described by a set of columns. Each column has a name.\n",
    "\n",
    "To read a CSV file and transform the data into DataFrame we use the class method read_csv."
   ],
   "metadata": {
    "collapsed": false
   },
   "id": "103552bc22c56a1c"
  },
  {
   "cell_type": "code",
   "outputs": [],
   "source": [
    "playground = pd.read_csv('data/playground.csv') # load the data from csv file"
   ],
   "metadata": {
    "collapsed": false,
    "ExecuteTime": {
     "end_time": "2024-04-02T14:10:27.316965Z",
     "start_time": "2024-04-02T14:10:27.296502Z"
    }
   },
   "id": "bf42e9a19ed0af9f",
   "execution_count": 29
  },
  {
   "cell_type": "code",
   "outputs": [
    {
     "data": {
      "text/plain": "       age  length_screw   diameter  middle_diameter  hammer_strength  \\\n0     47.0     39.537837  17.053504         4.301665        46.389102   \n1     20.0     -1.034592 -67.283321              NaN      -167.451060   \n2     72.0     40.686959 -21.411874         2.578786       -34.345003   \n3     23.0     60.179331  39.712469         3.065198       118.023664   \n4     93.0      2.862281  33.059898              NaN        99.476390   \n...    ...           ...        ...              ...              ...   \n9995  80.0     29.688847  -8.900835         5.830887       -15.037037   \n9996  35.0     23.757652  54.140757         3.128091       124.841787   \n9997  31.0      7.493367 -32.458441         2.022378       -83.878678   \n9998  33.0     33.341941 -36.872158              NaN       -84.604433   \n9999  76.0     28.463501  22.295653         4.978659        55.307215   \n\n         rank size  country  \n0      medium    L  Denmark  \n1        good  XXL  Denmark  \n2      medium    L  Austria  \n3     perfect   XL  Austria  \n4     perfect   XL  Germany  \n...       ...  ...      ...  \n9995     good  XXL  Denmark  \n9996   medium    L  Germany  \n9997  perfect    L   France  \n9998     good    M  Austria  \n9999  perfect  XXL    Italy  \n\n[10000 rows x 8 columns]",
      "text/html": "<div>\n<style scoped>\n    .dataframe tbody tr th:only-of-type {\n        vertical-align: middle;\n    }\n\n    .dataframe tbody tr th {\n        vertical-align: top;\n    }\n\n    .dataframe thead th {\n        text-align: right;\n    }\n</style>\n<table border=\"1\" class=\"dataframe\">\n  <thead>\n    <tr style=\"text-align: right;\">\n      <th></th>\n      <th>age</th>\n      <th>length_screw</th>\n      <th>diameter</th>\n      <th>middle_diameter</th>\n      <th>hammer_strength</th>\n      <th>rank</th>\n      <th>size</th>\n      <th>country</th>\n    </tr>\n  </thead>\n  <tbody>\n    <tr>\n      <th>0</th>\n      <td>47.0</td>\n      <td>39.537837</td>\n      <td>17.053504</td>\n      <td>4.301665</td>\n      <td>46.389102</td>\n      <td>medium</td>\n      <td>L</td>\n      <td>Denmark</td>\n    </tr>\n    <tr>\n      <th>1</th>\n      <td>20.0</td>\n      <td>-1.034592</td>\n      <td>-67.283321</td>\n      <td>NaN</td>\n      <td>-167.451060</td>\n      <td>good</td>\n      <td>XXL</td>\n      <td>Denmark</td>\n    </tr>\n    <tr>\n      <th>2</th>\n      <td>72.0</td>\n      <td>40.686959</td>\n      <td>-21.411874</td>\n      <td>2.578786</td>\n      <td>-34.345003</td>\n      <td>medium</td>\n      <td>L</td>\n      <td>Austria</td>\n    </tr>\n    <tr>\n      <th>3</th>\n      <td>23.0</td>\n      <td>60.179331</td>\n      <td>39.712469</td>\n      <td>3.065198</td>\n      <td>118.023664</td>\n      <td>perfect</td>\n      <td>XL</td>\n      <td>Austria</td>\n    </tr>\n    <tr>\n      <th>4</th>\n      <td>93.0</td>\n      <td>2.862281</td>\n      <td>33.059898</td>\n      <td>NaN</td>\n      <td>99.476390</td>\n      <td>perfect</td>\n      <td>XL</td>\n      <td>Germany</td>\n    </tr>\n    <tr>\n      <th>...</th>\n      <td>...</td>\n      <td>...</td>\n      <td>...</td>\n      <td>...</td>\n      <td>...</td>\n      <td>...</td>\n      <td>...</td>\n      <td>...</td>\n    </tr>\n    <tr>\n      <th>9995</th>\n      <td>80.0</td>\n      <td>29.688847</td>\n      <td>-8.900835</td>\n      <td>5.830887</td>\n      <td>-15.037037</td>\n      <td>good</td>\n      <td>XXL</td>\n      <td>Denmark</td>\n    </tr>\n    <tr>\n      <th>9996</th>\n      <td>35.0</td>\n      <td>23.757652</td>\n      <td>54.140757</td>\n      <td>3.128091</td>\n      <td>124.841787</td>\n      <td>medium</td>\n      <td>L</td>\n      <td>Germany</td>\n    </tr>\n    <tr>\n      <th>9997</th>\n      <td>31.0</td>\n      <td>7.493367</td>\n      <td>-32.458441</td>\n      <td>2.022378</td>\n      <td>-83.878678</td>\n      <td>perfect</td>\n      <td>L</td>\n      <td>France</td>\n    </tr>\n    <tr>\n      <th>9998</th>\n      <td>33.0</td>\n      <td>33.341941</td>\n      <td>-36.872158</td>\n      <td>NaN</td>\n      <td>-84.604433</td>\n      <td>good</td>\n      <td>M</td>\n      <td>Austria</td>\n    </tr>\n    <tr>\n      <th>9999</th>\n      <td>76.0</td>\n      <td>28.463501</td>\n      <td>22.295653</td>\n      <td>4.978659</td>\n      <td>55.307215</td>\n      <td>perfect</td>\n      <td>XXL</td>\n      <td>Italy</td>\n    </tr>\n  </tbody>\n</table>\n<p>10000 rows × 8 columns</p>\n</div>"
     },
     "execution_count": 30,
     "metadata": {},
     "output_type": "execute_result"
    }
   ],
   "source": [
    "playground"
   ],
   "metadata": {
    "collapsed": false,
    "ExecuteTime": {
     "end_time": "2024-04-02T14:10:27.335409Z",
     "start_time": "2024-04-02T14:10:27.319851Z"
    }
   },
   "id": "806c6826a0d57944",
   "execution_count": 30
  },
  {
   "cell_type": "code",
   "outputs": [
    {
     "name": "stdout",
     "output_type": "stream",
     "text": [
      "<class 'pandas.core.frame.DataFrame'>\n",
      "RangeIndex: 10000 entries, 0 to 9999\n",
      "Data columns (total 8 columns):\n",
      " #   Column           Non-Null Count  Dtype  \n",
      "---  ------           --------------  -----  \n",
      " 0   age              9990 non-null   float64\n",
      " 1   length_screw     9970 non-null   float64\n",
      " 2   diameter         9990 non-null   float64\n",
      " 3   middle_diameter  4994 non-null   float64\n",
      " 4   hammer_strength  9970 non-null   float64\n",
      " 5   rank             9990 non-null   object \n",
      " 6   size             9950 non-null   object \n",
      " 7   country          9990 non-null   object \n",
      "dtypes: float64(5), object(3)\n",
      "memory usage: 625.1+ KB\n"
     ]
    }
   ],
   "source": [
    "playground.info()"
   ],
   "metadata": {
    "collapsed": false,
    "ExecuteTime": {
     "end_time": "2024-04-02T14:10:27.347956Z",
     "start_time": "2024-04-02T14:10:27.336854Z"
    }
   },
   "id": "8a8213c34ccf4f75",
   "execution_count": 31
  },
  {
   "cell_type": "markdown",
   "source": [
    "- missing data is a problem.\n",
    "- Then, we have specific transformers for the types, and not all the objects are of the same type. Different transformers for different types."
   ],
   "metadata": {
    "collapsed": false
   },
   "id": "6c22349d6e90b95b"
  },
  {
   "cell_type": "code",
   "outputs": [
    {
     "data": {
      "text/plain": "                age  length_screw     diameter  middle_diameter  \\\ncount   9990.000000   9970.000000  9990.000000      4994.000000   \nunique          NaN           NaN          NaN              NaN   \ntop             NaN           NaN          NaN              NaN   \nfreq            NaN           NaN          NaN              NaN   \nmean      57.820420     29.885444     1.462067         3.006871   \nstd       23.368789     20.103509    40.196593         1.996277   \nmin       18.000000    -45.443865  -154.473963        -4.079200   \n25%       37.000000     16.177003   -25.098778         1.684077   \n50%       58.000000     29.801311     1.209477         2.995461   \n75%       78.000000     43.547181    28.115844         4.344913   \nmax       98.000000     99.756118   142.606375         9.735810   \n\n        hammer_strength     rank  size country  \ncount       9970.000000     9990  9950    9990  \nunique              NaN        4     5       7  \ntop                 NaN  perfect     L  Canada  \nfreq                NaN     2553  2034    1459  \nmean          14.701874      NaN   NaN     NaN  \nstd          101.184493      NaN   NaN     NaN  \nmin         -376.367170      NaN   NaN     NaN  \n25%          -52.087874      NaN   NaN     NaN  \n50%           14.201412      NaN   NaN     NaN  \n75%           81.566187      NaN   NaN     NaN  \nmax          344.912921      NaN   NaN     NaN  ",
      "text/html": "<div>\n<style scoped>\n    .dataframe tbody tr th:only-of-type {\n        vertical-align: middle;\n    }\n\n    .dataframe tbody tr th {\n        vertical-align: top;\n    }\n\n    .dataframe thead th {\n        text-align: right;\n    }\n</style>\n<table border=\"1\" class=\"dataframe\">\n  <thead>\n    <tr style=\"text-align: right;\">\n      <th></th>\n      <th>age</th>\n      <th>length_screw</th>\n      <th>diameter</th>\n      <th>middle_diameter</th>\n      <th>hammer_strength</th>\n      <th>rank</th>\n      <th>size</th>\n      <th>country</th>\n    </tr>\n  </thead>\n  <tbody>\n    <tr>\n      <th>count</th>\n      <td>9990.000000</td>\n      <td>9970.000000</td>\n      <td>9990.000000</td>\n      <td>4994.000000</td>\n      <td>9970.000000</td>\n      <td>9990</td>\n      <td>9950</td>\n      <td>9990</td>\n    </tr>\n    <tr>\n      <th>unique</th>\n      <td>NaN</td>\n      <td>NaN</td>\n      <td>NaN</td>\n      <td>NaN</td>\n      <td>NaN</td>\n      <td>4</td>\n      <td>5</td>\n      <td>7</td>\n    </tr>\n    <tr>\n      <th>top</th>\n      <td>NaN</td>\n      <td>NaN</td>\n      <td>NaN</td>\n      <td>NaN</td>\n      <td>NaN</td>\n      <td>perfect</td>\n      <td>L</td>\n      <td>Canada</td>\n    </tr>\n    <tr>\n      <th>freq</th>\n      <td>NaN</td>\n      <td>NaN</td>\n      <td>NaN</td>\n      <td>NaN</td>\n      <td>NaN</td>\n      <td>2553</td>\n      <td>2034</td>\n      <td>1459</td>\n    </tr>\n    <tr>\n      <th>mean</th>\n      <td>57.820420</td>\n      <td>29.885444</td>\n      <td>1.462067</td>\n      <td>3.006871</td>\n      <td>14.701874</td>\n      <td>NaN</td>\n      <td>NaN</td>\n      <td>NaN</td>\n    </tr>\n    <tr>\n      <th>std</th>\n      <td>23.368789</td>\n      <td>20.103509</td>\n      <td>40.196593</td>\n      <td>1.996277</td>\n      <td>101.184493</td>\n      <td>NaN</td>\n      <td>NaN</td>\n      <td>NaN</td>\n    </tr>\n    <tr>\n      <th>min</th>\n      <td>18.000000</td>\n      <td>-45.443865</td>\n      <td>-154.473963</td>\n      <td>-4.079200</td>\n      <td>-376.367170</td>\n      <td>NaN</td>\n      <td>NaN</td>\n      <td>NaN</td>\n    </tr>\n    <tr>\n      <th>25%</th>\n      <td>37.000000</td>\n      <td>16.177003</td>\n      <td>-25.098778</td>\n      <td>1.684077</td>\n      <td>-52.087874</td>\n      <td>NaN</td>\n      <td>NaN</td>\n      <td>NaN</td>\n    </tr>\n    <tr>\n      <th>50%</th>\n      <td>58.000000</td>\n      <td>29.801311</td>\n      <td>1.209477</td>\n      <td>2.995461</td>\n      <td>14.201412</td>\n      <td>NaN</td>\n      <td>NaN</td>\n      <td>NaN</td>\n    </tr>\n    <tr>\n      <th>75%</th>\n      <td>78.000000</td>\n      <td>43.547181</td>\n      <td>28.115844</td>\n      <td>4.344913</td>\n      <td>81.566187</td>\n      <td>NaN</td>\n      <td>NaN</td>\n      <td>NaN</td>\n    </tr>\n    <tr>\n      <th>max</th>\n      <td>98.000000</td>\n      <td>99.756118</td>\n      <td>142.606375</td>\n      <td>9.735810</td>\n      <td>344.912921</td>\n      <td>NaN</td>\n      <td>NaN</td>\n      <td>NaN</td>\n    </tr>\n  </tbody>\n</table>\n</div>"
     },
     "execution_count": 32,
     "metadata": {},
     "output_type": "execute_result"
    }
   ],
   "source": [
    "playground.describe(include='all')"
   ],
   "metadata": {
    "collapsed": false,
    "ExecuteTime": {
     "end_time": "2024-04-02T14:10:27.381019Z",
     "start_time": "2024-04-02T14:10:27.349549Z"
    }
   },
   "id": "80aa62fea588679",
   "execution_count": 32
  },
  {
   "cell_type": "markdown",
   "source": [
    "- describe() is another method for getting the general overview of the data.\n",
    "- include='all' means that we try to compute statistics for ALL the types.\n",
    "- 25% of data is less or equal to smth - quantile\n",
    "- median value is 50% quantile"
   ],
   "metadata": {
    "collapsed": false
   },
   "id": "a849b6d63333f9af"
  },
  {
   "cell_type": "markdown",
   "source": [
    "While for numerical values we get a quite complete overview of the features, for categorical columns we get less information. To obtain a distribution of the unique values in a specific column, we use the value_counts() method. It returns the frequency of each category in a column."
   ],
   "metadata": {
    "collapsed": false
   },
   "id": "9180ff7fc8d20ba4"
  },
  {
   "cell_type": "code",
   "outputs": [
    {
     "data": {
      "text/plain": "size\nL      2034\nXXL    2011\nM      1989\nS      1976\nXL     1940\nName: count, dtype: int64"
     },
     "execution_count": 33,
     "metadata": {},
     "output_type": "execute_result"
    }
   ],
   "source": [
    "playground['size'].value_counts()"
   ],
   "metadata": {
    "collapsed": false,
    "ExecuteTime": {
     "end_time": "2024-04-02T14:10:27.388427Z",
     "start_time": "2024-04-02T14:10:27.382692Z"
    }
   },
   "id": "400699e9ac7cb7f3",
   "execution_count": 33
  },
  {
   "cell_type": "markdown",
   "source": [
    "It's important to run value_counts() on each categorical value to understand if in a specific columns there are strings or values corresponding to the missing data. Not specified, missing, etc. Pandas won't be able to get meaning of this text."
   ],
   "metadata": {
    "collapsed": false
   },
   "id": "93c63ae83c347790"
  },
  {
   "cell_type": "markdown",
   "source": [
    "Here we select a specific column or a subset of columns using the indexing syntax. "
   ],
   "metadata": {
    "collapsed": false
   },
   "id": "3f61c4eb50235640"
  },
  {
   "cell_type": "code",
   "outputs": [],
   "source": [
    "# df['column name'] or df.column_name (not recommended)\n",
    "# df[[ 'column name1', ..., 'column name k' ]]"
   ],
   "metadata": {
    "collapsed": false,
    "ExecuteTime": {
     "end_time": "2024-04-02T14:10:27.394859Z",
     "start_time": "2024-04-02T14:10:27.390874Z"
    }
   },
   "id": "bd6b8e47bead154e",
   "execution_count": 34
  },
  {
   "cell_type": "markdown",
   "source": [
    "### Dealing with missing data\n",
    "\n",
    "Task: get the boolean DataFrame indicating where the missing values are, and visualiza the first 10 rows using the method head."
   ],
   "metadata": {
    "collapsed": false
   },
   "id": "4652152b434d47d0"
  },
  {
   "cell_type": "code",
   "outputs": [
    {
     "data": {
      "text/plain": "     age  length_screw  diameter  middle_diameter  hammer_strength   rank  \\\n0  False         False     False            False            False  False   \n1  False         False     False             True            False  False   \n2  False         False     False            False            False  False   \n3  False         False     False            False            False  False   \n4  False         False     False             True            False  False   \n5  False         False     False            False            False  False   \n6  False         False     False             True            False  False   \n7  False         False     False             True            False  False   \n8  False         False     False            False            False  False   \n9  False         False     False            False            False  False   \n\n    size  country  \n0  False    False  \n1  False    False  \n2  False    False  \n3  False    False  \n4  False    False  \n5  False    False  \n6  False    False  \n7  False    False  \n8  False    False  \n9  False    False  ",
      "text/html": "<div>\n<style scoped>\n    .dataframe tbody tr th:only-of-type {\n        vertical-align: middle;\n    }\n\n    .dataframe tbody tr th {\n        vertical-align: top;\n    }\n\n    .dataframe thead th {\n        text-align: right;\n    }\n</style>\n<table border=\"1\" class=\"dataframe\">\n  <thead>\n    <tr style=\"text-align: right;\">\n      <th></th>\n      <th>age</th>\n      <th>length_screw</th>\n      <th>diameter</th>\n      <th>middle_diameter</th>\n      <th>hammer_strength</th>\n      <th>rank</th>\n      <th>size</th>\n      <th>country</th>\n    </tr>\n  </thead>\n  <tbody>\n    <tr>\n      <th>0</th>\n      <td>False</td>\n      <td>False</td>\n      <td>False</td>\n      <td>False</td>\n      <td>False</td>\n      <td>False</td>\n      <td>False</td>\n      <td>False</td>\n    </tr>\n    <tr>\n      <th>1</th>\n      <td>False</td>\n      <td>False</td>\n      <td>False</td>\n      <td>True</td>\n      <td>False</td>\n      <td>False</td>\n      <td>False</td>\n      <td>False</td>\n    </tr>\n    <tr>\n      <th>2</th>\n      <td>False</td>\n      <td>False</td>\n      <td>False</td>\n      <td>False</td>\n      <td>False</td>\n      <td>False</td>\n      <td>False</td>\n      <td>False</td>\n    </tr>\n    <tr>\n      <th>3</th>\n      <td>False</td>\n      <td>False</td>\n      <td>False</td>\n      <td>False</td>\n      <td>False</td>\n      <td>False</td>\n      <td>False</td>\n      <td>False</td>\n    </tr>\n    <tr>\n      <th>4</th>\n      <td>False</td>\n      <td>False</td>\n      <td>False</td>\n      <td>True</td>\n      <td>False</td>\n      <td>False</td>\n      <td>False</td>\n      <td>False</td>\n    </tr>\n    <tr>\n      <th>5</th>\n      <td>False</td>\n      <td>False</td>\n      <td>False</td>\n      <td>False</td>\n      <td>False</td>\n      <td>False</td>\n      <td>False</td>\n      <td>False</td>\n    </tr>\n    <tr>\n      <th>6</th>\n      <td>False</td>\n      <td>False</td>\n      <td>False</td>\n      <td>True</td>\n      <td>False</td>\n      <td>False</td>\n      <td>False</td>\n      <td>False</td>\n    </tr>\n    <tr>\n      <th>7</th>\n      <td>False</td>\n      <td>False</td>\n      <td>False</td>\n      <td>True</td>\n      <td>False</td>\n      <td>False</td>\n      <td>False</td>\n      <td>False</td>\n    </tr>\n    <tr>\n      <th>8</th>\n      <td>False</td>\n      <td>False</td>\n      <td>False</td>\n      <td>False</td>\n      <td>False</td>\n      <td>False</td>\n      <td>False</td>\n      <td>False</td>\n    </tr>\n    <tr>\n      <th>9</th>\n      <td>False</td>\n      <td>False</td>\n      <td>False</td>\n      <td>False</td>\n      <td>False</td>\n      <td>False</td>\n      <td>False</td>\n      <td>False</td>\n    </tr>\n  </tbody>\n</table>\n</div>"
     },
     "execution_count": 35,
     "metadata": {},
     "output_type": "execute_result"
    }
   ],
   "source": [
    "playground.isnull().head(10)"
   ],
   "metadata": {
    "collapsed": false,
    "ExecuteTime": {
     "end_time": "2024-04-02T14:10:27.411220Z",
     "start_time": "2024-04-02T14:10:27.398143Z"
    }
   },
   "id": "4cda8498b3e33806",
   "execution_count": 35
  },
  {
   "cell_type": "markdown",
   "source": [
    "- False means that we have an entry. True means that the data is missing.\n",
    "- head(n) returns the first n rows of the dataset.\n",
    "- tail(n) returns the last n rows of the dataset."
   ],
   "metadata": {
    "collapsed": false
   },
   "id": "bbf2ca824eb166db"
  },
  {
   "cell_type": "code",
   "outputs": [
    {
     "data": {
      "text/plain": "        age  length_screw  diameter  middle_diameter  hammer_strength   rank  \\\n9990  False         False     False            False            False  False   \n9991  False         False     False             True            False  False   \n9992  False         False     False             True            False  False   \n9993  False         False     False            False            False  False   \n9994  False         False     False            False            False  False   \n9995  False         False     False            False            False  False   \n9996  False         False     False            False            False  False   \n9997  False         False     False            False            False  False   \n9998  False         False     False             True            False  False   \n9999  False         False     False            False            False  False   \n\n       size  country  \n9990  False    False  \n9991  False    False  \n9992  False    False  \n9993  False    False  \n9994  False    False  \n9995  False    False  \n9996  False    False  \n9997  False    False  \n9998  False    False  \n9999  False    False  ",
      "text/html": "<div>\n<style scoped>\n    .dataframe tbody tr th:only-of-type {\n        vertical-align: middle;\n    }\n\n    .dataframe tbody tr th {\n        vertical-align: top;\n    }\n\n    .dataframe thead th {\n        text-align: right;\n    }\n</style>\n<table border=\"1\" class=\"dataframe\">\n  <thead>\n    <tr style=\"text-align: right;\">\n      <th></th>\n      <th>age</th>\n      <th>length_screw</th>\n      <th>diameter</th>\n      <th>middle_diameter</th>\n      <th>hammer_strength</th>\n      <th>rank</th>\n      <th>size</th>\n      <th>country</th>\n    </tr>\n  </thead>\n  <tbody>\n    <tr>\n      <th>9990</th>\n      <td>False</td>\n      <td>False</td>\n      <td>False</td>\n      <td>False</td>\n      <td>False</td>\n      <td>False</td>\n      <td>False</td>\n      <td>False</td>\n    </tr>\n    <tr>\n      <th>9991</th>\n      <td>False</td>\n      <td>False</td>\n      <td>False</td>\n      <td>True</td>\n      <td>False</td>\n      <td>False</td>\n      <td>False</td>\n      <td>False</td>\n    </tr>\n    <tr>\n      <th>9992</th>\n      <td>False</td>\n      <td>False</td>\n      <td>False</td>\n      <td>True</td>\n      <td>False</td>\n      <td>False</td>\n      <td>False</td>\n      <td>False</td>\n    </tr>\n    <tr>\n      <th>9993</th>\n      <td>False</td>\n      <td>False</td>\n      <td>False</td>\n      <td>False</td>\n      <td>False</td>\n      <td>False</td>\n      <td>False</td>\n      <td>False</td>\n    </tr>\n    <tr>\n      <th>9994</th>\n      <td>False</td>\n      <td>False</td>\n      <td>False</td>\n      <td>False</td>\n      <td>False</td>\n      <td>False</td>\n      <td>False</td>\n      <td>False</td>\n    </tr>\n    <tr>\n      <th>9995</th>\n      <td>False</td>\n      <td>False</td>\n      <td>False</td>\n      <td>False</td>\n      <td>False</td>\n      <td>False</td>\n      <td>False</td>\n      <td>False</td>\n    </tr>\n    <tr>\n      <th>9996</th>\n      <td>False</td>\n      <td>False</td>\n      <td>False</td>\n      <td>False</td>\n      <td>False</td>\n      <td>False</td>\n      <td>False</td>\n      <td>False</td>\n    </tr>\n    <tr>\n      <th>9997</th>\n      <td>False</td>\n      <td>False</td>\n      <td>False</td>\n      <td>False</td>\n      <td>False</td>\n      <td>False</td>\n      <td>False</td>\n      <td>False</td>\n    </tr>\n    <tr>\n      <th>9998</th>\n      <td>False</td>\n      <td>False</td>\n      <td>False</td>\n      <td>True</td>\n      <td>False</td>\n      <td>False</td>\n      <td>False</td>\n      <td>False</td>\n    </tr>\n    <tr>\n      <th>9999</th>\n      <td>False</td>\n      <td>False</td>\n      <td>False</td>\n      <td>False</td>\n      <td>False</td>\n      <td>False</td>\n      <td>False</td>\n      <td>False</td>\n    </tr>\n  </tbody>\n</table>\n</div>"
     },
     "execution_count": 36,
     "metadata": {},
     "output_type": "execute_result"
    }
   ],
   "source": [
    "playground.isnull().tail(10)"
   ],
   "metadata": {
    "collapsed": false,
    "ExecuteTime": {
     "end_time": "2024-04-02T14:10:27.429976Z",
     "start_time": "2024-04-02T14:10:27.417764Z"
    }
   },
   "id": "7ff352c3c6275085",
   "execution_count": 36
  },
  {
   "cell_type": "markdown",
   "source": [
    "If we have a boolean DataFrame, we can count the number of missing values per column by the method sum().\n",
    "We count missing values per column."
   ],
   "metadata": {
    "collapsed": false
   },
   "id": "8d25399081e8975c"
  },
  {
   "cell_type": "code",
   "outputs": [
    {
     "data": {
      "text/plain": "age                  10\nlength_screw         30\ndiameter             10\nmiddle_diameter    5006\nhammer_strength      30\nrank                 10\nsize                 50\ncountry              10\ndtype: int64"
     },
     "execution_count": 37,
     "metadata": {},
     "output_type": "execute_result"
    }
   ],
   "source": [
    "playground.isnull().sum(axis=0) # axis=0 means from the top to the bottom; axis=1 for rows"
   ],
   "metadata": {
    "collapsed": false,
    "ExecuteTime": {
     "end_time": "2024-04-02T14:10:27.438988Z",
     "start_time": "2024-04-02T14:10:27.431658Z"
    }
   },
   "id": "fea8bf2180f51f84",
   "execution_count": 37
  },
  {
   "cell_type": "markdown",
   "source": [
    "- middle_diameter is very problematic"
   ],
   "metadata": {
    "collapsed": false
   },
   "id": "cb86b9683c7b70a5"
  },
  {
   "cell_type": "markdown",
   "source": [
    "Now we inspect the documentation of sum, how can we get the number of rows containing at least one missing value?\n",
    "If we evaluate comparison operator like df > value, we get a Boolean DataFrame. The same holds for Series - pandas.Series, aka a single row or column."
   ],
   "metadata": {
    "collapsed": false
   },
   "id": "3652df9e6cb20c2e"
  },
  {
   "cell_type": "code",
   "outputs": [
    {
     "data": {
      "text/plain": "5039"
     },
     "execution_count": 38,
     "metadata": {},
     "output_type": "execute_result"
    }
   ],
   "source": [
    "(playground.isnull().sum(axis=1) > 0).sum()"
   ],
   "metadata": {
    "collapsed": false,
    "ExecuteTime": {
     "end_time": "2024-04-02T14:10:27.451221Z",
     "start_time": "2024-04-02T14:10:27.441332Z"
    }
   },
   "id": "798c80c571cd0b3c",
   "execution_count": 38
  },
  {
   "cell_type": "code",
   "outputs": [
    {
     "data": {
      "text/plain": "0       False\n1        True\n2       False\n3       False\n4        True\n        ...  \n9995    False\n9996    False\n9997    False\n9998     True\n9999    False\nLength: 10000, dtype: bool"
     },
     "execution_count": 39,
     "metadata": {},
     "output_type": "execute_result"
    }
   ],
   "source": [
    "playground.isnull().sum(axis=1) > 0"
   ],
   "metadata": {
    "collapsed": false,
    "ExecuteTime": {
     "end_time": "2024-04-02T14:10:27.465632Z",
     "start_time": "2024-04-02T14:10:27.454088Z"
    }
   },
   "id": "1f19f74a4542a9a0",
   "execution_count": 39
  },
  {
   "cell_type": "markdown",
   "source": [
    "- Row with True contains at least one missing value."
   ],
   "metadata": {
    "collapsed": false
   },
   "id": "c05a7e5fb3c598a6"
  },
  {
   "cell_type": "code",
   "outputs": [
    {
     "data": {
      "text/plain": "5039"
     },
     "execution_count": 40,
     "metadata": {},
     "output_type": "execute_result"
    }
   ],
   "source": [
    "(playground.isnull().sum(axis=1) > 0).sum()"
   ],
   "metadata": {
    "collapsed": false,
    "ExecuteTime": {
     "end_time": "2024-04-02T14:10:27.474147Z",
     "start_time": "2024-04-02T14:10:27.466935Z"
    }
   },
   "id": "fcbd16fa6ad9077a",
   "execution_count": 40
  },
  {
   "cell_type": "markdown",
   "source": [
    "We got total number of rows containing at least one missing values."
   ],
   "metadata": {
    "collapsed": false
   },
   "id": "4c7b2fc15a2379d7"
  },
  {
   "cell_type": "code",
   "outputs": [
    {
     "data": {
      "text/plain": "10"
     },
     "execution_count": 41,
     "metadata": {},
     "output_type": "execute_result"
    }
   ],
   "source": [
    "(playground.isnull().sum(axis=1) > 3).sum()"
   ],
   "metadata": {
    "collapsed": false,
    "ExecuteTime": {
     "end_time": "2024-04-02T14:10:27.483078Z",
     "start_time": "2024-04-02T14:10:27.476003Z"
    }
   },
   "id": "244aa844f44bad5",
   "execution_count": 41
  },
  {
   "cell_type": "markdown",
   "source": [
    "These are the most problematic rows, which we can drop."
   ],
   "metadata": {
    "collapsed": false
   },
   "id": "9830b41fde9fa153"
  },
  {
   "cell_type": "markdown",
   "source": [
    "Now we remove all rows containing at least one missing value. "
   ],
   "metadata": {
    "collapsed": false
   },
   "id": "7d753263a6b45281"
  },
  {
   "cell_type": "code",
   "outputs": [
    {
     "data": {
      "text/plain": "       age  length_screw   diameter  middle_diameter  hammer_strength  \\\n0     47.0     39.537837  17.053504         4.301665        46.389102   \n2     72.0     40.686959 -21.411874         2.578786       -34.345003   \n3     23.0     60.179331  39.712469         3.065198       118.023664   \n5     65.0     52.287209  12.532527         4.092027        44.922023   \n8     65.0     51.078399 -22.971850         4.033592       -33.540389   \n...    ...           ...        ...              ...              ...   \n9994  76.0     37.231863 -23.314827         2.293006       -38.269593   \n9995  80.0     29.688847  -8.900835         5.830887       -15.037037   \n9996  35.0     23.757652  54.140757         3.128091       124.841787   \n9997  31.0      7.493367 -32.458441         2.022378       -83.878678   \n9999  76.0     28.463501  22.295653         4.978659        55.307215   \n\n         rank size  country  \n0      medium    L  Denmark  \n2      medium    L  Austria  \n3     perfect   XL  Austria  \n5         bad    M  Austria  \n8        good    S  Denmark  \n...       ...  ...      ...  \n9994  perfect    S    Italy  \n9995     good  XXL  Denmark  \n9996   medium    L  Germany  \n9997  perfect    L   France  \n9999  perfect  XXL    Italy  \n\n[4961 rows x 8 columns]",
      "text/html": "<div>\n<style scoped>\n    .dataframe tbody tr th:only-of-type {\n        vertical-align: middle;\n    }\n\n    .dataframe tbody tr th {\n        vertical-align: top;\n    }\n\n    .dataframe thead th {\n        text-align: right;\n    }\n</style>\n<table border=\"1\" class=\"dataframe\">\n  <thead>\n    <tr style=\"text-align: right;\">\n      <th></th>\n      <th>age</th>\n      <th>length_screw</th>\n      <th>diameter</th>\n      <th>middle_diameter</th>\n      <th>hammer_strength</th>\n      <th>rank</th>\n      <th>size</th>\n      <th>country</th>\n    </tr>\n  </thead>\n  <tbody>\n    <tr>\n      <th>0</th>\n      <td>47.0</td>\n      <td>39.537837</td>\n      <td>17.053504</td>\n      <td>4.301665</td>\n      <td>46.389102</td>\n      <td>medium</td>\n      <td>L</td>\n      <td>Denmark</td>\n    </tr>\n    <tr>\n      <th>2</th>\n      <td>72.0</td>\n      <td>40.686959</td>\n      <td>-21.411874</td>\n      <td>2.578786</td>\n      <td>-34.345003</td>\n      <td>medium</td>\n      <td>L</td>\n      <td>Austria</td>\n    </tr>\n    <tr>\n      <th>3</th>\n      <td>23.0</td>\n      <td>60.179331</td>\n      <td>39.712469</td>\n      <td>3.065198</td>\n      <td>118.023664</td>\n      <td>perfect</td>\n      <td>XL</td>\n      <td>Austria</td>\n    </tr>\n    <tr>\n      <th>5</th>\n      <td>65.0</td>\n      <td>52.287209</td>\n      <td>12.532527</td>\n      <td>4.092027</td>\n      <td>44.922023</td>\n      <td>bad</td>\n      <td>M</td>\n      <td>Austria</td>\n    </tr>\n    <tr>\n      <th>8</th>\n      <td>65.0</td>\n      <td>51.078399</td>\n      <td>-22.971850</td>\n      <td>4.033592</td>\n      <td>-33.540389</td>\n      <td>good</td>\n      <td>S</td>\n      <td>Denmark</td>\n    </tr>\n    <tr>\n      <th>...</th>\n      <td>...</td>\n      <td>...</td>\n      <td>...</td>\n      <td>...</td>\n      <td>...</td>\n      <td>...</td>\n      <td>...</td>\n      <td>...</td>\n    </tr>\n    <tr>\n      <th>9994</th>\n      <td>76.0</td>\n      <td>37.231863</td>\n      <td>-23.314827</td>\n      <td>2.293006</td>\n      <td>-38.269593</td>\n      <td>perfect</td>\n      <td>S</td>\n      <td>Italy</td>\n    </tr>\n    <tr>\n      <th>9995</th>\n      <td>80.0</td>\n      <td>29.688847</td>\n      <td>-8.900835</td>\n      <td>5.830887</td>\n      <td>-15.037037</td>\n      <td>good</td>\n      <td>XXL</td>\n      <td>Denmark</td>\n    </tr>\n    <tr>\n      <th>9996</th>\n      <td>35.0</td>\n      <td>23.757652</td>\n      <td>54.140757</td>\n      <td>3.128091</td>\n      <td>124.841787</td>\n      <td>medium</td>\n      <td>L</td>\n      <td>Germany</td>\n    </tr>\n    <tr>\n      <th>9997</th>\n      <td>31.0</td>\n      <td>7.493367</td>\n      <td>-32.458441</td>\n      <td>2.022378</td>\n      <td>-83.878678</td>\n      <td>perfect</td>\n      <td>L</td>\n      <td>France</td>\n    </tr>\n    <tr>\n      <th>9999</th>\n      <td>76.0</td>\n      <td>28.463501</td>\n      <td>22.295653</td>\n      <td>4.978659</td>\n      <td>55.307215</td>\n      <td>perfect</td>\n      <td>XXL</td>\n      <td>Italy</td>\n    </tr>\n  </tbody>\n</table>\n<p>4961 rows × 8 columns</p>\n</div>"
     },
     "execution_count": 42,
     "metadata": {},
     "output_type": "execute_result"
    }
   ],
   "source": [
    "playground.dropna(axis=0)"
   ],
   "metadata": {
    "collapsed": false,
    "ExecuteTime": {
     "end_time": "2024-04-02T14:10:27.499976Z",
     "start_time": "2024-04-02T14:10:27.484367Z"
    }
   },
   "id": "1f358fa892d99bbd",
   "execution_count": 42
  },
  {
   "cell_type": "markdown",
   "source": [
    "It's not a good idea, though. We threw away more than half of the dataset.\n",
    "We can remove many rows from the original DataFrame, it is still untouched because most of the methods changing a DataFrame return a new DataFrame, unless we defined the parameter inplace=True.\n",
    "\n",
    "Now we remove all the features containing at least one missing value. "
   ],
   "metadata": {
    "collapsed": false
   },
   "id": "358474e1a1a483f7"
  },
  {
   "cell_type": "code",
   "outputs": [
    {
     "data": {
      "text/plain": "Empty DataFrame\nColumns: []\nIndex: [0, 1, 2, 3, 4, 5, 6, 7, 8, 9, 10, 11, 12, 13, 14, 15, 16, 17, 18, 19, 20, 21, 22, 23, 24, 25, 26, 27, 28, 29, 30, 31, 32, 33, 34, 35, 36, 37, 38, 39, 40, 41, 42, 43, 44, 45, 46, 47, 48, 49, 50, 51, 52, 53, 54, 55, 56, 57, 58, 59, 60, 61, 62, 63, 64, 65, 66, 67, 68, 69, 70, 71, 72, 73, 74, 75, 76, 77, 78, 79, 80, 81, 82, 83, 84, 85, 86, 87, 88, 89, 90, 91, 92, 93, 94, 95, 96, 97, 98, 99, ...]\n\n[10000 rows x 0 columns]",
      "text/html": "<div>\n<style scoped>\n    .dataframe tbody tr th:only-of-type {\n        vertical-align: middle;\n    }\n\n    .dataframe tbody tr th {\n        vertical-align: top;\n    }\n\n    .dataframe thead th {\n        text-align: right;\n    }\n</style>\n<table border=\"1\" class=\"dataframe\">\n  <thead>\n    <tr style=\"text-align: right;\">\n      <th></th>\n    </tr>\n  </thead>\n  <tbody>\n    <tr>\n      <th>0</th>\n    </tr>\n    <tr>\n      <th>1</th>\n    </tr>\n    <tr>\n      <th>2</th>\n    </tr>\n    <tr>\n      <th>3</th>\n    </tr>\n    <tr>\n      <th>4</th>\n    </tr>\n    <tr>\n      <th>...</th>\n    </tr>\n    <tr>\n      <th>9995</th>\n    </tr>\n    <tr>\n      <th>9996</th>\n    </tr>\n    <tr>\n      <th>9997</th>\n    </tr>\n    <tr>\n      <th>9998</th>\n    </tr>\n    <tr>\n      <th>9999</th>\n    </tr>\n  </tbody>\n</table>\n<p>10000 rows × 0 columns</p>\n</div>"
     },
     "execution_count": 43,
     "metadata": {},
     "output_type": "execute_result"
    }
   ],
   "source": [
    "playground.dropna(axis=1)"
   ],
   "metadata": {
    "collapsed": false,
    "ExecuteTime": {
     "end_time": "2024-04-02T14:10:27.513880Z",
     "start_time": "2024-04-02T14:10:27.502919Z"
    }
   },
   "id": "94bbf5a73749db8c",
   "execution_count": 43
  },
  {
   "cell_type": "markdown",
   "source": [
    "Not a good idea, we just removed all the dataset.\n",
    "The problem is the column middle_diameter, which contains a lot of missing values. We remove it by exploiting parameter thresh in the method dropna."
   ],
   "metadata": {
    "collapsed": false
   },
   "id": "ff88b81dc167720f"
  },
  {
   "cell_type": "code",
   "outputs": [],
   "source": [
    "playground = playground.dropna(thresh=4996, axis=1).dropna(axis=0, how='all')"
   ],
   "metadata": {
    "collapsed": false,
    "ExecuteTime": {
     "end_time": "2024-04-02T14:10:27.525781Z",
     "start_time": "2024-04-02T14:10:27.515959Z"
    }
   },
   "id": "177e3afa82242c98",
   "execution_count": 44
  },
  {
   "cell_type": "markdown",
   "source": [
    "We removed the column middle_diameter and, on the resulting new DataFrame, we removed all the rows full of missing data."
   ],
   "metadata": {
    "collapsed": false
   },
   "id": "6b608d86504fb187"
  },
  {
   "cell_type": "code",
   "outputs": [
    {
     "name": "stdout",
     "output_type": "stream",
     "text": [
      "<class 'pandas.core.frame.DataFrame'>\n",
      "Index: 9990 entries, 0 to 9999\n",
      "Data columns (total 7 columns):\n",
      " #   Column           Non-Null Count  Dtype  \n",
      "---  ------           --------------  -----  \n",
      " 0   age              9990 non-null   float64\n",
      " 1   length_screw     9970 non-null   float64\n",
      " 2   diameter         9990 non-null   float64\n",
      " 3   hammer_strength  9970 non-null   float64\n",
      " 4   rank             9990 non-null   object \n",
      " 5   size             9950 non-null   object \n",
      " 6   country          9990 non-null   object \n",
      "dtypes: float64(4), object(3)\n",
      "memory usage: 624.4+ KB\n"
     ]
    }
   ],
   "source": [
    "playground.info()"
   ],
   "metadata": {
    "collapsed": false,
    "ExecuteTime": {
     "end_time": "2024-04-02T14:10:27.536843Z",
     "start_time": "2024-04-02T14:10:27.526943Z"
    }
   },
   "id": "7aedcdcf01224f1b",
   "execution_count": 45
  },
  {
   "cell_type": "markdown",
   "source": [
    "Again, a few columns contain missing data, but the overall quantity of missing values is very limited. For these cases, it is more suitable to impute missing values."
   ],
   "metadata": {
    "collapsed": false
   },
   "id": "406232121cbf93ad"
  },
  {
   "cell_type": "markdown",
   "source": [
    "Task: apply imputation with strategy most_frequent to the feature size by using the SimpleImputer class. \n",
    "most_frequent is the only option for categorical data."
   ],
   "metadata": {
    "collapsed": false
   },
   "id": "ffcb854f4e3d5bc5"
  },
  {
   "cell_type": "code",
   "outputs": [],
   "source": [
    "si = SimpleImputer(strategy='most_frequent') # we specify parameters of the class, i.e. strategy - the information required to run the transformer\n",
    "playground[['size']] = si.fit_transform(playground[['size']]) # [[]] to avoid the error"
   ],
   "metadata": {
    "collapsed": false,
    "ExecuteTime": {
     "end_time": "2024-04-02T14:10:27.550953Z",
     "start_time": "2024-04-02T14:10:27.538758Z"
    }
   },
   "id": "dc3611593800bf4c",
   "execution_count": 46
  },
  {
   "cell_type": "markdown",
   "source": [
    "Task: apply imputation with strategy mean to the features hammer_strength and length_screw."
   ],
   "metadata": {
    "collapsed": false
   },
   "id": "1ca58ef0a7769c06"
  },
  {
   "cell_type": "code",
   "outputs": [],
   "source": [
    "si_mean = SimpleImputer(strategy='mean')\n",
    "playground[['length_screw', 'hammer_strength']] = si_mean.fit_transform(playground[['length_screw', 'hammer_strength']])"
   ],
   "metadata": {
    "collapsed": false,
    "ExecuteTime": {
     "end_time": "2024-04-02T14:10:27.562764Z",
     "start_time": "2024-04-02T14:10:27.552407Z"
    }
   },
   "id": "e34d9f1db84552b2",
   "execution_count": 47
  },
  {
   "cell_type": "markdown",
   "source": [
    "### Transform the categorical data\n",
    "#### Pandas way\n",
    "\n",
    "Task: Features size and rank are ordinal. Apply the most suitable transformation to these columns using the pandas' approach."
   ],
   "metadata": {
    "collapsed": false
   },
   "id": "fa2959b68bcb42a1"
  },
  {
   "cell_type": "code",
   "outputs": [
    {
     "data": {
      "text/plain": "0       2\n1       4\n2       2\n3       3\n4       3\n       ..\n9995    4\n9996    2\n9997    2\n9998    1\n9999    4\nName: size, Length: 9990, dtype: int64"
     },
     "execution_count": 48,
     "metadata": {},
     "output_type": "execute_result"
    }
   ],
   "source": [
    "playground['size'].map({'S':0, 'M':1, 'L':2, 'XL':3, 'XXL':4})"
   ],
   "metadata": {
    "collapsed": false,
    "ExecuteTime": {
     "end_time": "2024-04-02T14:10:27.572164Z",
     "start_time": "2024-04-02T14:10:27.564557Z"
    }
   },
   "id": "49195727e0bdbb6d",
   "execution_count": 48
  },
  {
   "cell_type": "code",
   "outputs": [
    {
     "data": {
      "text/plain": "0       1\n1       2\n2       1\n3       3\n4       3\n       ..\n9995    2\n9996    1\n9997    3\n9998    2\n9999    3\nName: rank, Length: 9990, dtype: int64"
     },
     "execution_count": 49,
     "metadata": {},
     "output_type": "execute_result"
    }
   ],
   "source": [
    "playground['rank'].map({'bad':0, 'medium':1, 'good':2, 'perfect':3})"
   ],
   "metadata": {
    "collapsed": false,
    "ExecuteTime": {
     "end_time": "2024-04-02T14:10:27.581704Z",
     "start_time": "2024-04-02T14:10:27.574206Z"
    }
   },
   "id": "db8f36bd37b4c3c3",
   "execution_count": 49
  },
  {
   "cell_type": "markdown",
   "source": [
    "Task: the feature country is nominal. Apply the most suitable transformation for this type, using the pandas' approach."
   ],
   "metadata": {
    "collapsed": false
   },
   "id": "b522c970480e74ce"
  },
  {
   "cell_type": "code",
   "outputs": [
    {
     "data": {
      "text/plain": "country\nCanada     1459\nGermany    1443\nSpain      1438\nAustria    1425\nFrance     1423\nDenmark    1405\nItaly      1397\nName: count, dtype: int64"
     },
     "execution_count": 50,
     "metadata": {},
     "output_type": "execute_result"
    }
   ],
   "source": [
    "playground.country.value_counts()"
   ],
   "metadata": {
    "collapsed": false,
    "ExecuteTime": {
     "end_time": "2024-04-02T14:10:27.591598Z",
     "start_time": "2024-04-02T14:10:27.583391Z"
    }
   },
   "id": "21d194d3d8a6460d",
   "execution_count": 50
  },
  {
   "cell_type": "code",
   "outputs": [],
   "source": [
    "# temp = pd.get_dummies(playground['country']).astype(np.float64)\n",
    "# playground[list(temp)] = temp"
   ],
   "metadata": {
    "collapsed": false,
    "ExecuteTime": {
     "end_time": "2024-04-02T14:10:27.597914Z",
     "start_time": "2024-04-02T14:10:27.594296Z"
    }
   },
   "id": "5e338fab48e5a0e7",
   "execution_count": 51
  },
  {
   "cell_type": "code",
   "outputs": [
    {
     "data": {
      "text/plain": "       age  length_screw   diameter  hammer_strength     rank size  country\n0     47.0     39.537837  17.053504        46.389102   medium    L  Denmark\n1     20.0     -1.034592 -67.283321      -167.451060     good  XXL  Denmark\n2     72.0     40.686959 -21.411874       -34.345003   medium    L  Austria\n3     23.0     60.179331  39.712469       118.023664  perfect   XL  Austria\n4     93.0      2.862281  33.059898        99.476390  perfect   XL  Germany\n...    ...           ...        ...              ...      ...  ...      ...\n9995  80.0     29.688847  -8.900835       -15.037037     good  XXL  Denmark\n9996  35.0     23.757652  54.140757       124.841787   medium    L  Germany\n9997  31.0      7.493367 -32.458441       -83.878678  perfect    L   France\n9998  33.0     33.341941 -36.872158       -84.604433     good    M  Austria\n9999  76.0     28.463501  22.295653        55.307215  perfect  XXL    Italy\n\n[9990 rows x 7 columns]",
      "text/html": "<div>\n<style scoped>\n    .dataframe tbody tr th:only-of-type {\n        vertical-align: middle;\n    }\n\n    .dataframe tbody tr th {\n        vertical-align: top;\n    }\n\n    .dataframe thead th {\n        text-align: right;\n    }\n</style>\n<table border=\"1\" class=\"dataframe\">\n  <thead>\n    <tr style=\"text-align: right;\">\n      <th></th>\n      <th>age</th>\n      <th>length_screw</th>\n      <th>diameter</th>\n      <th>hammer_strength</th>\n      <th>rank</th>\n      <th>size</th>\n      <th>country</th>\n    </tr>\n  </thead>\n  <tbody>\n    <tr>\n      <th>0</th>\n      <td>47.0</td>\n      <td>39.537837</td>\n      <td>17.053504</td>\n      <td>46.389102</td>\n      <td>medium</td>\n      <td>L</td>\n      <td>Denmark</td>\n    </tr>\n    <tr>\n      <th>1</th>\n      <td>20.0</td>\n      <td>-1.034592</td>\n      <td>-67.283321</td>\n      <td>-167.451060</td>\n      <td>good</td>\n      <td>XXL</td>\n      <td>Denmark</td>\n    </tr>\n    <tr>\n      <th>2</th>\n      <td>72.0</td>\n      <td>40.686959</td>\n      <td>-21.411874</td>\n      <td>-34.345003</td>\n      <td>medium</td>\n      <td>L</td>\n      <td>Austria</td>\n    </tr>\n    <tr>\n      <th>3</th>\n      <td>23.0</td>\n      <td>60.179331</td>\n      <td>39.712469</td>\n      <td>118.023664</td>\n      <td>perfect</td>\n      <td>XL</td>\n      <td>Austria</td>\n    </tr>\n    <tr>\n      <th>4</th>\n      <td>93.0</td>\n      <td>2.862281</td>\n      <td>33.059898</td>\n      <td>99.476390</td>\n      <td>perfect</td>\n      <td>XL</td>\n      <td>Germany</td>\n    </tr>\n    <tr>\n      <th>...</th>\n      <td>...</td>\n      <td>...</td>\n      <td>...</td>\n      <td>...</td>\n      <td>...</td>\n      <td>...</td>\n      <td>...</td>\n    </tr>\n    <tr>\n      <th>9995</th>\n      <td>80.0</td>\n      <td>29.688847</td>\n      <td>-8.900835</td>\n      <td>-15.037037</td>\n      <td>good</td>\n      <td>XXL</td>\n      <td>Denmark</td>\n    </tr>\n    <tr>\n      <th>9996</th>\n      <td>35.0</td>\n      <td>23.757652</td>\n      <td>54.140757</td>\n      <td>124.841787</td>\n      <td>medium</td>\n      <td>L</td>\n      <td>Germany</td>\n    </tr>\n    <tr>\n      <th>9997</th>\n      <td>31.0</td>\n      <td>7.493367</td>\n      <td>-32.458441</td>\n      <td>-83.878678</td>\n      <td>perfect</td>\n      <td>L</td>\n      <td>France</td>\n    </tr>\n    <tr>\n      <th>9998</th>\n      <td>33.0</td>\n      <td>33.341941</td>\n      <td>-36.872158</td>\n      <td>-84.604433</td>\n      <td>good</td>\n      <td>M</td>\n      <td>Austria</td>\n    </tr>\n    <tr>\n      <th>9999</th>\n      <td>76.0</td>\n      <td>28.463501</td>\n      <td>22.295653</td>\n      <td>55.307215</td>\n      <td>perfect</td>\n      <td>XXL</td>\n      <td>Italy</td>\n    </tr>\n  </tbody>\n</table>\n<p>9990 rows × 7 columns</p>\n</div>"
     },
     "execution_count": 52,
     "metadata": {},
     "output_type": "execute_result"
    }
   ],
   "source": [
    "playground"
   ],
   "metadata": {
    "collapsed": false,
    "ExecuteTime": {
     "end_time": "2024-04-02T14:10:27.616711Z",
     "start_time": "2024-04-02T14:10:27.599388Z"
    }
   },
   "id": "b598e91a68e19490",
   "execution_count": 52
  },
  {
   "cell_type": "markdown",
   "source": [
    "#### The SKlearn way\n",
    "\n",
    "One of the parameters in the OrdinalEncoder constructor is categories. It is used to specify the order of the categories in the i-th feature. Specifically, we pass a list of lists/array.\n",
    "\n",
    "Example:\n",
    "\n",
    "oe = OrdinalEncoding(categories = ['A', 'B', 'C'])\n",
    "0 - index of the element 'A' - will replace A, 1 - index of element 'B' - will replace B and so on."
   ],
   "metadata": {
    "collapsed": false
   },
   "id": "32b013cd641cc359"
  },
  {
   "cell_type": "markdown",
   "source": [
    "Task: apply the previous encoding but using SKLearn classes."
   ],
   "metadata": {
    "collapsed": false
   },
   "id": "5d3ae9262a952412"
  },
  {
   "cell_type": "code",
   "outputs": [
    {
     "data": {
      "text/plain": "array([[1.],\n       [2.],\n       [1.],\n       ...,\n       [3.],\n       [2.],\n       [3.]])"
     },
     "execution_count": 53,
     "metadata": {},
     "output_type": "execute_result"
    }
   ],
   "source": [
    "oe_size = OrdinalEncoder(categories=[['S', 'M', 'L', 'XL', 'XXL']])\n",
    "oe_size.fit_transform(playground[['size']])\n",
    "oe_rank = OrdinalEncoder(categories=[['bad', 'medium', 'good', 'perfect']])\n",
    "oe_rank.fit_transform(playground[['rank']])"
   ],
   "metadata": {
    "collapsed": false,
    "ExecuteTime": {
     "end_time": "2024-04-02T14:10:27.632554Z",
     "start_time": "2024-04-02T14:10:27.617890Z"
    }
   },
   "id": "7ba8f7b155e7219",
   "execution_count": 53
  },
  {
   "cell_type": "code",
   "outputs": [
    {
     "data": {
      "text/plain": "0     medium\n1       good\n2     medium\n3    perfect\nName: rank, dtype: object"
     },
     "execution_count": 54,
     "metadata": {},
     "output_type": "execute_result"
    }
   ],
   "source": [
    "playground['rank'][:4]"
   ],
   "metadata": {
    "collapsed": false,
    "ExecuteTime": {
     "end_time": "2024-04-02T14:10:27.645985Z",
     "start_time": "2024-04-02T14:10:27.639800Z"
    }
   },
   "id": "46d48ab921ef118c",
   "execution_count": 54
  },
  {
   "cell_type": "code",
   "outputs": [],
   "source": [
    "ohe_country = OneHotEncoder()\n",
    "temp = ohe_country.fit_transform(playground[['country']]).toarray()\n",
    "names = ohe_country.get_feature_names_out()\n",
    "playground[list(names)] = temp"
   ],
   "metadata": {
    "collapsed": false,
    "ExecuteTime": {
     "end_time": "2024-04-02T14:10:27.663538Z",
     "start_time": "2024-04-02T14:10:27.647983Z"
    }
   },
   "id": "b34d33ba69d6e632",
   "execution_count": 55
  },
  {
   "cell_type": "code",
   "outputs": [
    {
     "name": "stdout",
     "output_type": "stream",
     "text": [
      "<class 'pandas.core.frame.DataFrame'>\n",
      "Index: 9990 entries, 0 to 9999\n",
      "Data columns (total 14 columns):\n",
      " #   Column           Non-Null Count  Dtype  \n",
      "---  ------           --------------  -----  \n",
      " 0   age              9990 non-null   float64\n",
      " 1   length_screw     9990 non-null   float64\n",
      " 2   diameter         9990 non-null   float64\n",
      " 3   hammer_strength  9990 non-null   float64\n",
      " 4   rank             9990 non-null   object \n",
      " 5   size             9990 non-null   object \n",
      " 6   country          9990 non-null   object \n",
      " 7   country_Austria  9990 non-null   float64\n",
      " 8   country_Canada   9990 non-null   float64\n",
      " 9   country_Denmark  9990 non-null   float64\n",
      " 10  country_France   9990 non-null   float64\n",
      " 11  country_Germany  9990 non-null   float64\n",
      " 12  country_Italy    9990 non-null   float64\n",
      " 13  country_Spain    9990 non-null   float64\n",
      "dtypes: float64(11), object(3)\n",
      "memory usage: 1.1+ MB\n"
     ]
    }
   ],
   "source": [
    "playground.info()"
   ],
   "metadata": {
    "collapsed": false,
    "ExecuteTime": {
     "end_time": "2024-04-02T14:10:27.674740Z",
     "start_time": "2024-04-02T14:10:27.665184Z"
    }
   },
   "id": "da015cc53658d5e4",
   "execution_count": 56
  },
  {
   "cell_type": "markdown",
   "source": [
    "### Binning or Bucketing\n",
    "\n",
    "Task: the feature age is numerical and continuous nominal. Apply different strategy for binning."
   ],
   "metadata": {
    "collapsed": false
   },
   "id": "7efc2151847db4b4"
  },
  {
   "cell_type": "code",
   "outputs": [],
   "source": [
    "binner1 = KBinsDiscretizer(n_bins=10, strategy='uniform', encode='ordinal')\n",
    "binner2 = KBinsDiscretizer(n_bins=10, strategy='quantile', encode='ordinal')\n",
    "binner3 = KBinsDiscretizer(n_bins=10, strategy='kmeans', encode='ordinal')"
   ],
   "metadata": {
    "collapsed": false,
    "ExecuteTime": {
     "end_time": "2024-04-02T14:10:27.680217Z",
     "start_time": "2024-04-02T14:10:27.676664Z"
    }
   },
   "id": "c288aa12b2d8fc03",
   "execution_count": 57
  },
  {
   "cell_type": "code",
   "outputs": [
    {
     "name": "stderr",
     "output_type": "stream",
     "text": [
      "/Users/aleksandrak/Desktop/ML-course-Labs/.venv/lib/python3.12/site-packages/sklearn/preprocessing/_discretization.py:248: FutureWarning: In version 1.5 onwards, subsample=200_000 will be used by default. Set subsample explicitly to silence this warning in the mean time. Set subsample=None to disable subsampling explicitly.\n",
      "  warnings.warn(\n"
     ]
    },
    {
     "data": {
      "text/plain": "array([[<Axes: title={'center': '0'}>]], dtype=object)"
     },
     "execution_count": 58,
     "metadata": {},
     "output_type": "execute_result"
    },
    {
     "data": {
      "text/plain": "<Figure size 640x480 with 1 Axes>",
      "image/png": "[encoded data removed]"
     },
     "metadata": {},
     "output_type": "display_data"
    }
   ],
   "source": [
    "pd.DataFrame(binner1.fit_transform(playground[['diameter']])).hist()"
   ],
   "metadata": {
    "collapsed": false,
    "ExecuteTime": {
     "end_time": "2024-04-02T14:10:28.368057Z",
     "start_time": "2024-04-02T14:10:27.681769Z"
    }
   },
   "id": "202c2d278f5fce50",
   "execution_count": 58
  },
  {
   "cell_type": "code",
   "outputs": [
    {
     "data": {
      "text/plain": "array([[<Axes: title={'center': '0'}>]], dtype=object)"
     },
     "execution_count": 59,
     "metadata": {},
     "output_type": "execute_result"
    },
    {
     "data": {
      "text/plain": "<Figure size 640x480 with 1 Axes>",
      "image/png": "[encoded data removed]"
     },
     "metadata": {},
     "output_type": "display_data"
    }
   ],
   "source": [
    "pd.DataFrame(binner2.fit_transform(playground[['diameter']])).hist()"
   ],
   "metadata": {
    "collapsed": false,
    "ExecuteTime": {
     "end_time": "2024-04-02T14:10:28.560841Z",
     "start_time": "2024-04-02T14:10:28.369238Z"
    }
   },
   "id": "49c0a7017e31b27b",
   "execution_count": 59
  },
  {
   "cell_type": "code",
   "outputs": [
    {
     "name": "stderr",
     "output_type": "stream",
     "text": [
      "/Users/aleksandrak/Desktop/ML-course-Labs/.venv/lib/python3.12/site-packages/sklearn/preprocessing/_discretization.py:248: FutureWarning: In version 1.5 onwards, subsample=200_000 will be used by default. Set subsample explicitly to silence this warning in the mean time. Set subsample=None to disable subsampling explicitly.\n",
      "  warnings.warn(\n"
     ]
    },
    {
     "data": {
      "text/plain": "array([[<Axes: title={'center': '0'}>]], dtype=object)"
     },
     "execution_count": 60,
     "metadata": {},
     "output_type": "execute_result"
    },
    {
     "data": {
      "text/plain": "<Figure size 640x480 with 1 Axes>",
      "image/png": "[encoded data removed]"
     },
     "metadata": {},
     "output_type": "display_data"
    }
   ],
   "source": [
    "pd.DataFrame(binner3.fit_transform(playground[['diameter']])).hist()"
   ],
   "metadata": {
    "collapsed": false,
    "ExecuteTime": {
     "end_time": "2024-04-02T14:10:29.116087Z",
     "start_time": "2024-04-02T14:10:28.563001Z"
    }
   },
   "id": "9ca90ffabfbf14b8",
   "execution_count": 60
  },
  {
   "cell_type": "markdown",
   "source": [
    "### Feature Scaling\n",
    "\n",
    "Task: apply a min-max scaling for the feature age."
   ],
   "metadata": {
    "collapsed": false
   },
   "id": "a668e53a076649ce"
  },
  {
   "cell_type": "code",
   "outputs": [
    {
     "data": {
      "text/plain": "array([[0.3625],\n       [0.025 ],\n       [0.675 ],\n       ...,\n       [0.1625],\n       [0.1875],\n       [0.725 ]])"
     },
     "execution_count": 61,
     "metadata": {},
     "output_type": "execute_result"
    }
   ],
   "source": [
    "mm_scaler = MinMaxScaler()\n",
    "mm_scaler.fit_transform(playground[['age']])"
   ],
   "metadata": {
    "collapsed": false,
    "ExecuteTime": {
     "end_time": "2024-04-02T14:10:29.128690Z",
     "start_time": "2024-04-02T14:10:29.118396Z"
    }
   },
   "id": "e438fae19e754989",
   "execution_count": 61
  },
  {
   "cell_type": "markdown",
   "source": [
    "Task: apply a standardization to the features length_screw, diameter and hammer_strength."
   ],
   "metadata": {
    "collapsed": false
   },
   "id": "f6a3a2b6f1202329"
  },
  {
   "cell_type": "code",
   "outputs": [
    {
     "data": {
      "text/plain": "array([[ 0.48064018,  0.38789898,  0.31349256],\n       [-1.53966089, -1.71031482, -1.80210112],\n       [ 0.5378606 , -0.56908024, -0.48523749],\n       ...,\n       [-1.11501183, -0.8439075 , -0.97529103],\n       [ 0.17211597, -0.95371625, -0.98247117],\n       [-0.07080558,  0.51831827,  0.40172249]])"
     },
     "execution_count": 62,
     "metadata": {},
     "output_type": "execute_result"
    }
   ],
   "source": [
    "sscaler = StandardScaler()\n",
    "sscaler.fit_transform(playground[['length_screw', 'diameter', 'hammer_strength']])"
   ],
   "metadata": {
    "collapsed": false,
    "ExecuteTime": {
     "end_time": "2024-04-02T14:10:29.143027Z",
     "start_time": "2024-04-02T14:10:29.130583Z"
    }
   },
   "id": "54bb80c3f7d2ef8a",
   "execution_count": 62
  },
  {
   "cell_type": "markdown",
   "source": [
    "### Pipeline\n",
    "\n",
    "Here, we have to implement two pipelines composed by two transformers.\n",
    "Task: define the first pipeline composed of:\n",
    "1. SimpleImputer with strategy='mean'\n",
    "2. StandardScaler"
   ],
   "metadata": {
    "collapsed": false
   },
   "id": "cacc4055aa0e5a24"
  },
  {
   "cell_type": "code",
   "outputs": [
    {
     "data": {
      "text/plain": "array([[ 0.48064018,  0.31349256],\n       [-1.53966089, -1.80210112],\n       [ 0.5378606 , -0.48523749],\n       ...,\n       [-1.11501183, -0.97529103],\n       [ 0.17211597, -0.98247117],\n       [-0.07080558,  0.40172249]])"
     },
     "execution_count": 63,
     "metadata": {},
     "output_type": "execute_result"
    }
   ],
   "source": [
    "imp_scaler = Pipeline(\n",
    "    [\n",
    "        ('pipe1_si', SimpleImputer(strategy='mean')),\n",
    "        ('pipe1_scaler', StandardScaler())\n",
    "    ]\n",
    ")\n",
    "imp_scaler.fit_transform(playground[['length_screw', 'hammer_strength']])"
   ],
   "metadata": {
    "collapsed": false,
    "ExecuteTime": {
     "end_time": "2024-04-02T14:10:29.159864Z",
     "start_time": "2024-04-02T14:10:29.145255Z"
    }
   },
   "id": "75600d565b6f9d99",
   "execution_count": 63
  },
  {
   "cell_type": "markdown",
   "source": [
    "Task: define the second and the third pipelines composed of:\n",
    " Pipeline 2:\n",
    "    1. SimpleImputer with strategy = 'most_frequent'\n",
    "    2. OrdinalEncoder with categories = ['S','M','L','XL','XXL']\n",
    "    3. MinMaxScaler\n",
    "    \n",
    " Pipeline 3:\n",
    "    1. OrdinalEncoder with categories = ['bad','medium','good','perfect']\n",
    "    2. MinMaxScaler"
   ],
   "metadata": {
    "collapsed": false
   },
   "id": "1ab9bc632055b3cb"
  },
  {
   "cell_type": "code",
   "outputs": [],
   "source": [
    "imp_ordinal = Pipeline(\n",
    "    [\n",
    "        ('pipe2_si', SimpleImputer(strategy='most_frequent')),\n",
    "        ('pipe2_ordinal', OrdinalEncoder(categories=[['S','M','L','XL','XXL']])),\n",
    "        ('pipe2_mm', MinMaxScaler())\n",
    "    ]\n",
    ")\n",
    "\n",
    "imp_ordinal2 = Pipeline(\n",
    "    [\n",
    "        ('pipe3_ordinal', OrdinalEncoder(categories=[['bad','medium','good','perfect']])),\n",
    "        ('pipe3_mm', MinMaxScaler())\n",
    "    ]\n",
    ")"
   ],
   "metadata": {
    "collapsed": false,
    "ExecuteTime": {
     "end_time": "2024-04-02T14:10:29.167342Z",
     "start_time": "2024-04-02T14:10:29.162620Z"
    }
   },
   "id": "55d1e724c01fab74",
   "execution_count": 64
  },
  {
   "cell_type": "markdown",
   "source": [
    "Once we defined the pipelines, we have all the transformers - ingredients - to build a ColumnTransformer to apply to our dataset."
   ],
   "metadata": {
    "collapsed": false
   },
   "id": "4d2875f17b01adf4"
  },
  {
   "cell_type": "markdown",
   "source": [
    "### Column Transformer\n",
    "\n",
    "Task: Implement the ColumnTransformer depicted before.\n",
    "We are starting from the scratch, i.e. from the playground DataFrame loaded again and we are putting all the blocks together."
   ],
   "metadata": {
    "collapsed": false
   },
   "id": "a8d0659dca4c3dc0"
  },
  {
   "cell_type": "code",
   "outputs": [
    {
     "data": {
      "text/plain": "       age  length_screw   diameter  hammer_strength     rank size  country\n0     47.0     39.537837  17.053504        46.389102   medium    L  Denmark\n1     20.0     -1.034592 -67.283321      -167.451060     good  XXL  Denmark\n2     72.0     40.686959 -21.411874       -34.345003   medium    L  Austria\n3     23.0     60.179331  39.712469       118.023664  perfect   XL  Austria\n4     93.0      2.862281  33.059898        99.476390  perfect   XL  Germany\n...    ...           ...        ...              ...      ...  ...      ...\n9995  80.0     29.688847  -8.900835       -15.037037     good  XXL  Denmark\n9996  35.0     23.757652  54.140757       124.841787   medium    L  Germany\n9997  31.0      7.493367 -32.458441       -83.878678  perfect    L   France\n9998  33.0     33.341941 -36.872158       -84.604433     good    M  Austria\n9999  76.0     28.463501  22.295653        55.307215  perfect  XXL    Italy\n\n[9990 rows x 7 columns]",
      "text/html": "<div>\n<style scoped>\n    .dataframe tbody tr th:only-of-type {\n        vertical-align: middle;\n    }\n\n    .dataframe tbody tr th {\n        vertical-align: top;\n    }\n\n    .dataframe thead th {\n        text-align: right;\n    }\n</style>\n<table border=\"1\" class=\"dataframe\">\n  <thead>\n    <tr style=\"text-align: right;\">\n      <th></th>\n      <th>age</th>\n      <th>length_screw</th>\n      <th>diameter</th>\n      <th>hammer_strength</th>\n      <th>rank</th>\n      <th>size</th>\n      <th>country</th>\n    </tr>\n  </thead>\n  <tbody>\n    <tr>\n      <th>0</th>\n      <td>47.0</td>\n      <td>39.537837</td>\n      <td>17.053504</td>\n      <td>46.389102</td>\n      <td>medium</td>\n      <td>L</td>\n      <td>Denmark</td>\n    </tr>\n    <tr>\n      <th>1</th>\n      <td>20.0</td>\n      <td>-1.034592</td>\n      <td>-67.283321</td>\n      <td>-167.451060</td>\n      <td>good</td>\n      <td>XXL</td>\n      <td>Denmark</td>\n    </tr>\n    <tr>\n      <th>2</th>\n      <td>72.0</td>\n      <td>40.686959</td>\n      <td>-21.411874</td>\n      <td>-34.345003</td>\n      <td>medium</td>\n      <td>L</td>\n      <td>Austria</td>\n    </tr>\n    <tr>\n      <th>3</th>\n      <td>23.0</td>\n      <td>60.179331</td>\n      <td>39.712469</td>\n      <td>118.023664</td>\n      <td>perfect</td>\n      <td>XL</td>\n      <td>Austria</td>\n    </tr>\n    <tr>\n      <th>4</th>\n      <td>93.0</td>\n      <td>2.862281</td>\n      <td>33.059898</td>\n      <td>99.476390</td>\n      <td>perfect</td>\n      <td>XL</td>\n      <td>Germany</td>\n    </tr>\n    <tr>\n      <th>...</th>\n      <td>...</td>\n      <td>...</td>\n      <td>...</td>\n      <td>...</td>\n      <td>...</td>\n      <td>...</td>\n      <td>...</td>\n    </tr>\n    <tr>\n      <th>9995</th>\n      <td>80.0</td>\n      <td>29.688847</td>\n      <td>-8.900835</td>\n      <td>-15.037037</td>\n      <td>good</td>\n      <td>XXL</td>\n      <td>Denmark</td>\n    </tr>\n    <tr>\n      <th>9996</th>\n      <td>35.0</td>\n      <td>23.757652</td>\n      <td>54.140757</td>\n      <td>124.841787</td>\n      <td>medium</td>\n      <td>L</td>\n      <td>Germany</td>\n    </tr>\n    <tr>\n      <th>9997</th>\n      <td>31.0</td>\n      <td>7.493367</td>\n      <td>-32.458441</td>\n      <td>-83.878678</td>\n      <td>perfect</td>\n      <td>L</td>\n      <td>France</td>\n    </tr>\n    <tr>\n      <th>9998</th>\n      <td>33.0</td>\n      <td>33.341941</td>\n      <td>-36.872158</td>\n      <td>-84.604433</td>\n      <td>good</td>\n      <td>M</td>\n      <td>Austria</td>\n    </tr>\n    <tr>\n      <th>9999</th>\n      <td>76.0</td>\n      <td>28.463501</td>\n      <td>22.295653</td>\n      <td>55.307215</td>\n      <td>perfect</td>\n      <td>XXL</td>\n      <td>Italy</td>\n    </tr>\n  </tbody>\n</table>\n<p>9990 rows × 7 columns</p>\n</div>"
     },
     "execution_count": 65,
     "metadata": {},
     "output_type": "execute_result"
    }
   ],
   "source": [
    "playground = pd.read_csv('data/playground.csv').dropna(thresh=6000, axis=1).dropna(axis=0, how='all')\n",
    "playground"
   ],
   "metadata": {
    "collapsed": false,
    "ExecuteTime": {
     "end_time": "2024-04-02T14:10:29.212211Z",
     "start_time": "2024-04-02T14:10:29.169388Z"
    }
   },
   "id": "2084e18cb8e1896c",
   "execution_count": 65
  },
  {
   "cell_type": "code",
   "outputs": [],
   "source": [
    "playground_tf = ColumnTransformer(\n",
    "    transformers=[\n",
    "        ('age', MinMaxScaler(), ['age']),\n",
    "        ('imp_std', imp_scaler, ['length_screw', 'hammer_strength']),\n",
    "        ('diam_std', StandardScaler(), ['diameter']),\n",
    "        ('rank', imp_ordinal2, ['rank']),\n",
    "        ('imp_ord', imp_ordinal, ['size']),\n",
    "        ('country_hot', OneHotEncoder(drop='first', categories='auto'), ['country'])\n",
    "    ],\n",
    "    verbose_feature_names_out=False\n",
    ")"
   ],
   "metadata": {
    "collapsed": false,
    "ExecuteTime": {
     "end_time": "2024-04-02T14:10:29.218723Z",
     "start_time": "2024-04-02T14:10:29.214514Z"
    }
   },
   "id": "8752c31e05307303",
   "execution_count": 66
  },
  {
   "cell_type": "code",
   "outputs": [
    {
     "data": {
      "text/plain": "         age  length_screw  hammer_strength  diameter      rank  size  \\\n0     0.3625      0.480640         0.313493  0.387899  0.333333  0.50   \n1     0.0250     -1.539661        -1.802101 -1.710315  0.666667  1.00   \n2     0.6750      0.537861        -0.485237 -0.569080  0.333333  0.50   \n3     0.0625      1.508482         1.022198  0.951631  1.000000  0.75   \n4     0.9375     -1.345616         0.838703  0.786122  1.000000  0.75   \n...      ...           ...              ...       ...       ...   ...   \n9985  0.7750     -0.009790        -0.294217 -0.257818  0.666667  1.00   \n9986  0.2125     -0.305133         1.089652  1.310592  0.333333  0.50   \n9987  0.1625     -1.115012        -0.975291 -0.843907  1.000000  0.50   \n9988  0.1875      0.172116        -0.982471 -0.953716  0.666667  0.25   \n9989  0.7250     -0.070806         0.401722  0.518318  1.000000  1.00   \n\n      country_Canada  country_Denmark  country_France  country_Germany  \\\n0                0.0              1.0             0.0              0.0   \n1                0.0              1.0             0.0              0.0   \n2                0.0              0.0             0.0              0.0   \n3                0.0              0.0             0.0              0.0   \n4                0.0              0.0             0.0              1.0   \n...              ...              ...             ...              ...   \n9985             0.0              1.0             0.0              0.0   \n9986             0.0              0.0             0.0              1.0   \n9987             0.0              0.0             1.0              0.0   \n9988             0.0              0.0             0.0              0.0   \n9989             0.0              0.0             0.0              0.0   \n\n      country_Italy  country_Spain  \n0               0.0            0.0  \n1               0.0            0.0  \n2               0.0            0.0  \n3               0.0            0.0  \n4               0.0            0.0  \n...             ...            ...  \n9985            0.0            0.0  \n9986            0.0            0.0  \n9987            0.0            0.0  \n9988            0.0            0.0  \n9989            1.0            0.0  \n\n[9990 rows x 12 columns]",
      "text/html": "<div>\n<style scoped>\n    .dataframe tbody tr th:only-of-type {\n        vertical-align: middle;\n    }\n\n    .dataframe tbody tr th {\n        vertical-align: top;\n    }\n\n    .dataframe thead th {\n        text-align: right;\n    }\n</style>\n<table border=\"1\" class=\"dataframe\">\n  <thead>\n    <tr style=\"text-align: right;\">\n      <th></th>\n      <th>age</th>\n      <th>length_screw</th>\n      <th>hammer_strength</th>\n      <th>diameter</th>\n      <th>rank</th>\n      <th>size</th>\n      <th>country_Canada</th>\n      <th>country_Denmark</th>\n      <th>country_France</th>\n      <th>country_Germany</th>\n      <th>country_Italy</th>\n      <th>country_Spain</th>\n    </tr>\n  </thead>\n  <tbody>\n    <tr>\n      <th>0</th>\n      <td>0.3625</td>\n      <td>0.480640</td>\n      <td>0.313493</td>\n      <td>0.387899</td>\n      <td>0.333333</td>\n      <td>0.50</td>\n      <td>0.0</td>\n      <td>1.0</td>\n      <td>0.0</td>\n      <td>0.0</td>\n      <td>0.0</td>\n      <td>0.0</td>\n    </tr>\n    <tr>\n      <th>1</th>\n      <td>0.0250</td>\n      <td>-1.539661</td>\n      <td>-1.802101</td>\n      <td>-1.710315</td>\n      <td>0.666667</td>\n      <td>1.00</td>\n      <td>0.0</td>\n      <td>1.0</td>\n      <td>0.0</td>\n      <td>0.0</td>\n      <td>0.0</td>\n      <td>0.0</td>\n    </tr>\n    <tr>\n      <th>2</th>\n      <td>0.6750</td>\n      <td>0.537861</td>\n      <td>-0.485237</td>\n      <td>-0.569080</td>\n      <td>0.333333</td>\n      <td>0.50</td>\n      <td>0.0</td>\n      <td>0.0</td>\n      <td>0.0</td>\n      <td>0.0</td>\n      <td>0.0</td>\n      <td>0.0</td>\n    </tr>\n    <tr>\n      <th>3</th>\n      <td>0.0625</td>\n      <td>1.508482</td>\n      <td>1.022198</td>\n      <td>0.951631</td>\n      <td>1.000000</td>\n      <td>0.75</td>\n      <td>0.0</td>\n      <td>0.0</td>\n      <td>0.0</td>\n      <td>0.0</td>\n      <td>0.0</td>\n      <td>0.0</td>\n    </tr>\n    <tr>\n      <th>4</th>\n      <td>0.9375</td>\n      <td>-1.345616</td>\n      <td>0.838703</td>\n      <td>0.786122</td>\n      <td>1.000000</td>\n      <td>0.75</td>\n      <td>0.0</td>\n      <td>0.0</td>\n      <td>0.0</td>\n      <td>1.0</td>\n      <td>0.0</td>\n      <td>0.0</td>\n    </tr>\n    <tr>\n      <th>...</th>\n      <td>...</td>\n      <td>...</td>\n      <td>...</td>\n      <td>...</td>\n      <td>...</td>\n      <td>...</td>\n      <td>...</td>\n      <td>...</td>\n      <td>...</td>\n      <td>...</td>\n      <td>...</td>\n      <td>...</td>\n    </tr>\n    <tr>\n      <th>9985</th>\n      <td>0.7750</td>\n      <td>-0.009790</td>\n      <td>-0.294217</td>\n      <td>-0.257818</td>\n      <td>0.666667</td>\n      <td>1.00</td>\n      <td>0.0</td>\n      <td>1.0</td>\n      <td>0.0</td>\n      <td>0.0</td>\n      <td>0.0</td>\n      <td>0.0</td>\n    </tr>\n    <tr>\n      <th>9986</th>\n      <td>0.2125</td>\n      <td>-0.305133</td>\n      <td>1.089652</td>\n      <td>1.310592</td>\n      <td>0.333333</td>\n      <td>0.50</td>\n      <td>0.0</td>\n      <td>0.0</td>\n      <td>0.0</td>\n      <td>1.0</td>\n      <td>0.0</td>\n      <td>0.0</td>\n    </tr>\n    <tr>\n      <th>9987</th>\n      <td>0.1625</td>\n      <td>-1.115012</td>\n      <td>-0.975291</td>\n      <td>-0.843907</td>\n      <td>1.000000</td>\n      <td>0.50</td>\n      <td>0.0</td>\n      <td>0.0</td>\n      <td>1.0</td>\n      <td>0.0</td>\n      <td>0.0</td>\n      <td>0.0</td>\n    </tr>\n    <tr>\n      <th>9988</th>\n      <td>0.1875</td>\n      <td>0.172116</td>\n      <td>-0.982471</td>\n      <td>-0.953716</td>\n      <td>0.666667</td>\n      <td>0.25</td>\n      <td>0.0</td>\n      <td>0.0</td>\n      <td>0.0</td>\n      <td>0.0</td>\n      <td>0.0</td>\n      <td>0.0</td>\n    </tr>\n    <tr>\n      <th>9989</th>\n      <td>0.7250</td>\n      <td>-0.070806</td>\n      <td>0.401722</td>\n      <td>0.518318</td>\n      <td>1.000000</td>\n      <td>1.00</td>\n      <td>0.0</td>\n      <td>0.0</td>\n      <td>0.0</td>\n      <td>0.0</td>\n      <td>1.0</td>\n      <td>0.0</td>\n    </tr>\n  </tbody>\n</table>\n<p>9990 rows × 12 columns</p>\n</div>"
     },
     "execution_count": 67,
     "metadata": {},
     "output_type": "execute_result"
    }
   ],
   "source": [
    "playground_tf.fit(playground)\n",
    "new_playground = pd.DataFrame(playground_tf.transform(playground), columns=playground_tf.get_feature_names_out())\n",
    "new_playground"
   ],
   "metadata": {
    "collapsed": false,
    "ExecuteTime": {
     "end_time": "2024-04-02T14:10:29.315074Z",
     "start_time": "2024-04-02T14:10:29.220715Z"
    }
   },
   "id": "c7e03c5211f86160",
   "execution_count": 67
  },
  {
   "cell_type": "code",
   "outputs": [
    {
     "data": {
      "text/plain": "(9990, 12)"
     },
     "execution_count": 68,
     "metadata": {},
     "output_type": "execute_result"
    }
   ],
   "source": [
    "new_playground.shape"
   ],
   "metadata": {
    "collapsed": false,
    "ExecuteTime": {
     "end_time": "2024-04-02T14:10:29.324257Z",
     "start_time": "2024-04-02T14:10:29.317088Z"
    }
   },
   "id": "da20c1631bbce746",
   "execution_count": 68
  }
 ],
 "metadata": {
  "kernelspec": {
   "display_name": "Python 3",
   "language": "python",
   "name": "python3"
  },
  "language_info": {
   "codemirror_mode": {
    "name": "ipython",
    "version": 2
   },
   "file_extension": ".py",
   "mimetype": "text/x-python",
   "name": "python",
   "nbconvert_exporter": "python",
   "pygments_lexer": "ipython2",
   "version": "2.7.6"
  }
 },
 "nbformat": 4,
 "nbformat_minor": 5
}
