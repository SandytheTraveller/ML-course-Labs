{
 "cells": [
  {
   "cell_type": "markdown",
   "source": [
    "# Cross-Validation and Generalization"
   ],
   "metadata": {
    "collapsed": false
   },
   "id": "5204feeed3031bc0"
  },
  {
   "cell_type": "code",
   "outputs": [],
   "source": [
    "# data management\n",
    "import pandas as pd\n",
    "\n",
    "# data preprocessing and transformation (ETL)\n",
    "from sklearn.impute import SimpleImputer\n",
    "from sklearn.preprocessing import StandardScaler, MinMaxScaler, RobustScaler, MaxAbsScaler, FunctionTransformer, Binarizer\n",
    "from sklearn.pipeline import Pipeline\n",
    "from sklearn.compose import ColumnTransformer\n",
    "\n",
    "# math and stat modules\n",
    "import numpy as np\n",
    "from scipy.stats import sem\n",
    "from random import choice\n",
    "\n",
    "# Supervised Learning\n",
    "from sklearn.model_selection import train_test_split, cross_val_score, cross_val_predict, KFold, StratifiedKFold, RepeatedKFold, ShuffleSplit, StratifiedShuffleSplit, learning_curve, validation_curve\n",
    "from sklearn.linear_model import LogisticRegression, Perceptron\n",
    "from sklearn.metrics import confusion_matrix, precision_score, recall_score, f1_score, precision_recall_curve, roc_curve\n",
    "from sklearn.dummy import DummyClassifier\n",
    "from sklearn.multiclass import OneVsOneClassifier, OneVsRestClassifier\n",
    "from sklearn.neighbors import KNeighborsClassifier\n",
    "\n",
    "# Visualization\n",
    "import matplotlib.pyplot as plt\n",
    "import matplotlib as mpl"
   ],
   "metadata": {
    "collapsed": false,
    "ExecuteTime": {
     "end_time": "2024-04-21T09:07:28.360450Z",
     "start_time": "2024-04-21T09:07:28.250919Z"
    }
   },
   "id": "834de91d3d9efe3d",
   "execution_count": 50
  },
  {
   "cell_type": "markdown",
   "source": [
    "## Data preparation"
   ],
   "metadata": {
    "collapsed": false
   },
   "id": "8032dc65ae6d40aa"
  },
  {
   "cell_type": "code",
   "outputs": [],
   "source": [
    "bank_data = pd.read_csv('data/data_banknote_authentication.txt', delimiter=',', header=None, names=['f1', 'f2', 'f3', 'f4', 'label'])\n",
    "y = bank_data.pop('label').values\n",
    "X = bank_data.values\n",
    "scaler = StandardScaler()\n",
    "\n",
    "X_train, X_test, y_train, y_test = train_test_split(X, y, test_size=0.1, stratify=y)\n",
    "X_train = scaler.fit_transform(X_train)\n",
    "X_test = scaler.transform(X_test)"
   ],
   "metadata": {
    "collapsed": false,
    "ExecuteTime": {
     "end_time": "2024-04-21T09:07:28.475856Z",
     "start_time": "2024-04-21T09:07:28.367918Z"
    }
   },
   "id": "376df7bd2f473e30",
   "execution_count": 51
  },
  {
   "cell_type": "markdown",
   "source": [
    "## Cross-validation\n",
    "\n",
    "Cross-validation methodologies can be used to get more reliable assessment on the generalization of the trained model, i.e. how the model will perform on unseen data.\n",
    "\n",
    "To prevent data overfitting, i.e. a strong adaptation of the model to the training dataset and the inability to generalize to unseen data, a common practice is the holdout cross-validation.\n",
    "\n",
    "As usual, the dataset is divided into 2 disjoint sets: the training set and the testing set. The former is used for model training and the latter is for performance evaluation and the final assessment of generalization.\n"
   ],
   "metadata": {
    "collapsed": false
   },
   "id": "9776531d50e02816"
  },
  {
   "cell_type": "markdown",
   "source": [
    "### k-fold cross-validation\n",
    "\n",
    "In k-fold cross-validation - k-fold CV - the training set is divided into k disjoint sets - fold, such that for each fold f:\n",
    "1. the remaining k - 1 folds are places as training set\n",
    "2. the model is trained on k - 1fold and tested on the selected validation fold f.\n",
    "\n",
    "In short, we get k models and k different performance measures, on which we compute the average performance. Moreover, once we selected the best hyperparameters, we re-trained the model on the entire training set and we evaluate the final model on the original test set."
   ],
   "metadata": {
    "collapsed": false
   },
   "id": "d54326f46a4e0ceb"
  },
  {
   "cell_type": "markdown",
   "source": [
    "Through the method cross_val_score we execute k-CV and get the performance for each fold.\n",
    "Usually, the common practice is to set k equal to 5 or 10, according to the size of the dataset. In SKLearn, if K is an integer KFold or StratifiedKFold (means that the ratio between positive and negative in each fold is the same; useful in case of unbalanced classes) are the default strategies.\n",
    "KFold is a special case of stratification."
   ],
   "metadata": {
    "collapsed": false
   },
   "id": "ba87b7503265172e"
  },
  {
   "cell_type": "code",
   "outputs": [
    {
     "data": {
      "text/plain": "array([0.9757085 , 0.97975709, 0.97165992, 0.98380567, 0.98780488])"
     },
     "execution_count": 52,
     "metadata": {},
     "output_type": "execute_result"
    }
   ],
   "source": [
    "cls = LogisticRegression()\n",
    "cls_score = cross_val_score(cls, X_train, y_train, cv=5)\n",
    "cls_score"
   ],
   "metadata": {
    "collapsed": false,
    "ExecuteTime": {
     "end_time": "2024-04-21T09:07:28.547900Z",
     "start_time": "2024-04-21T09:07:28.479168Z"
    }
   },
   "id": "a89d05369a426437",
   "execution_count": 52
  },
  {
   "cell_type": "code",
   "outputs": [
    {
     "data": {
      "text/plain": "0.9878048780487805"
     },
     "execution_count": 53,
     "metadata": {},
     "output_type": "execute_result"
    }
   ],
   "source": [
    "max(cls_score)"
   ],
   "metadata": {
    "collapsed": false,
    "ExecuteTime": {
     "end_time": "2024-04-21T09:07:28.557516Z",
     "start_time": "2024-04-21T09:07:28.552034Z"
    }
   },
   "id": "639e6ea1ec501c2f",
   "execution_count": 53
  },
  {
   "cell_type": "markdown",
   "source": [
    "The cv parameter accepts different data types, so to specify which splitting strategy will be applied on the training set. In fact, integer, CV objects or indices are allowed.\n",
    "\n",
    "A method similar to cross_val_score is cross_val_predict. It returns, for each element in the training set, the label predicted by the classifier trained when the element was in the validation fold."
   ],
   "metadata": {
    "collapsed": false
   },
   "id": "8736fef550d6e4e1"
  },
  {
   "cell_type": "code",
   "outputs": [],
   "source": [
    "y_predicted = cross_val_predict(cls, X_train, y_train, cv=5)"
   ],
   "metadata": {
    "collapsed": false,
    "ExecuteTime": {
     "end_time": "2024-04-21T09:07:28.591282Z",
     "start_time": "2024-04-21T09:07:28.559717Z"
    }
   },
   "id": "12179c5c1d256efc",
   "execution_count": 54
  },
  {
   "cell_type": "markdown",
   "source": [
    "We now compute the confusion matrix using the prediction returned by cross_val_predict."
   ],
   "metadata": {
    "collapsed": false
   },
   "id": "a436cbc8c014dc05"
  },
  {
   "cell_type": "code",
   "outputs": [
    {
     "data": {
      "text/plain": "array([[663,  22],\n       [  3, 546]])"
     },
     "execution_count": 55,
     "metadata": {},
     "output_type": "execute_result"
    }
   ],
   "source": [
    "confusion_matrix(y_train, y_predicted)"
   ],
   "metadata": {
    "collapsed": false,
    "ExecuteTime": {
     "end_time": "2024-04-21T09:07:28.604907Z",
     "start_time": "2024-04-21T09:07:28.593402Z"
    }
   },
   "id": "31e799d2325521c7",
   "execution_count": 55
  },
  {
   "cell_type": "markdown",
   "source": [
    "### Cross-Validation Iterators\n",
    "\n",
    "The fold generation depends on the partitioning strategy. We assume data is IDD so we can use\n",
    "- k-fold\n",
    "- Repeated k-fold (k-fold with number k, we repeat k-folds n times to make evaluation more robust and get more stable results, to have more samples of the performance)\n",
    "- LOO\n",
    "- LPO\n",
    "- Shuffle and Split\n",
    "Class KFold implements the k-fold splitting on the k-fold CV. "
   ],
   "metadata": {
    "collapsed": false
   },
   "id": "d087e1f3155c5a80"
  },
  {
   "cell_type": "code",
   "outputs": [
    {
     "data": {
      "text/plain": "array([0.98387097, 0.96774194, 0.97580645, 0.98387097, 1.        ,\n       0.94308943, 0.98373984, 0.98373984, 0.98373984, 0.99186992])"
     },
     "execution_count": 56,
     "metadata": {},
     "output_type": "execute_result"
    }
   ],
   "source": [
    "kf = KFold(n_splits=10)\n",
    "cls = LogisticRegression()\n",
    "scores = cross_val_score(cls, X_train, y_train, cv=kf)\n",
    "scores"
   ],
   "metadata": {
    "collapsed": false,
    "ExecuteTime": {
     "end_time": "2024-04-21T09:07:28.678138Z",
     "start_time": "2024-04-21T09:07:28.606224Z"
    }
   },
   "id": "45858d2e82d476c0",
   "execution_count": 56
  },
  {
   "cell_type": "code",
   "outputs": [
    {
     "data": {
      "text/plain": "1.0"
     },
     "execution_count": 57,
     "metadata": {},
     "output_type": "execute_result"
    }
   ],
   "source": [
    "max(scores)"
   ],
   "metadata": {
    "collapsed": false,
    "ExecuteTime": {
     "end_time": "2024-04-21T09:07:28.684005Z",
     "start_time": "2024-04-21T09:07:28.679721Z"
    }
   },
   "id": "20e825ac3f11b56b",
   "execution_count": 57
  },
  {
   "cell_type": "markdown",
   "source": [
    "The method split returns the list of training and validation folds for each splitting, expressed in terms of the row-index of the feature matrix. It indicates which rows to put in training folds and which ones to put in the validation fold."
   ],
   "metadata": {
    "collapsed": false
   },
   "id": "e483f2cf20b860d1"
  },
  {
   "cell_type": "code",
   "outputs": [
    {
     "name": "stdout",
     "output_type": "stream",
     "text": [
      "[[-4.67509174 -4.68970131 -4.28127757  0.18094883]]\n",
      "0.9838709677419355\n",
      "----------\n",
      "[[-4.7348513  -4.63288787 -4.26076542  0.23280111]]\n",
      "0.967741935483871\n",
      "----------\n",
      "[[-4.72105199 -4.57835292 -4.24705968  0.22280269]]\n",
      "0.9758064516129032\n",
      "----------\n",
      "[[-4.71519906 -4.65042115 -4.24333667  0.18160744]]\n",
      "0.9838709677419355\n",
      "----------\n",
      "[[-4.71701976 -4.67469707 -4.29794712  0.16592423]]\n",
      "1.0\n",
      "----------\n",
      "[[-4.70181284 -4.70373053 -4.25965372  0.20177336]]\n",
      "0.943089430894309\n",
      "----------\n",
      "[[-4.7882071  -4.61147494 -4.24706792  0.25694667]]\n",
      "0.983739837398374\n",
      "----------\n",
      "[[-4.71348162 -4.70476368 -4.31840781  0.20097281]]\n",
      "0.983739837398374\n",
      "----------\n",
      "[[-4.71525493 -4.57500224 -4.27662115  0.20932435]]\n",
      "0.983739837398374\n",
      "----------\n",
      "[[-4.69067019 -4.70845599 -4.30606312  0.17596107]]\n",
      "0.991869918699187\n",
      "----------\n",
      "LogisticRegression()\n"
     ]
    }
   ],
   "source": [
    "all_cls = []\n",
    "for train_idx, test_idx in kf.split(X_train, y_train):\n",
    "    x_train_fold, y_train_fold = X_train[train_idx, :], y_train[train_idx]\n",
    "    cls = LogisticRegression()\n",
    "    cls.fit(x_train_fold, y_train_fold)\n",
    "    print(cls.coef_)\n",
    "    \n",
    "    x_val_fold, y_val_fold = X_train[test_idx, :], y_train[test_idx]\n",
    "    fold_predicted = cls.predict(x_val_fold)\n",
    "    print(np.sum(fold_predicted == y_val_fold) / len(y_val_fold))\n",
    "    print('-'*10)\n",
    "    all_cls.append(cls)\n",
    "print(all_cls[3])"
   ],
   "metadata": {
    "collapsed": false,
    "ExecuteTime": {
     "end_time": "2024-04-21T09:07:28.751217Z",
     "start_time": "2024-04-21T09:07:28.687334Z"
    }
   },
   "id": "eaca27e41ebdef9f",
   "execution_count": 58
  },
  {
   "cell_type": "code",
   "outputs": [
    {
     "name": "stdout",
     "output_type": "stream",
     "text": [
      "[1 0 1 1 0 1 1 0 1 0] [0 0 1 1 0 0 1 0 1 0]\n"
     ]
    }
   ],
   "source": [
    "cls_all = LogisticRegression()\n",
    "cls_all.fit(X_train, y_train)\n",
    "print(cls_all.predict(X_test)[:10], y_train[:10])"
   ],
   "metadata": {
    "collapsed": false,
    "ExecuteTime": {
     "end_time": "2024-04-21T09:07:28.770194Z",
     "start_time": "2024-04-21T09:07:28.756375Z"
    }
   },
   "id": "b204b090591405d8",
   "execution_count": 59
  },
  {
   "cell_type": "markdown",
   "source": [
    "To reduce the oscillations in the performance measurements we can repeat k-fold CV many times and return the average performance over all the folds and all the repetitions.\n",
    "This approach can be applied  to small/medium size datasets because it is computationally expensive even if we run it in parallel.\n",
    "SKL provides such method by the class RepeatedKFold. The required parameters are K and n_repeats, the number of repetitions."
   ],
   "metadata": {
    "collapsed": false
   },
   "id": "2eedf758e22ab046"
  },
  {
   "cell_type": "code",
   "outputs": [
    {
     "data": {
      "text/plain": "array([0.97580645, 1.        , 0.97580645, 0.98387097, 0.98373984,\n       0.98373984, 0.97560976, 0.98373984, 0.96747967, 0.96747967,\n       0.98387097, 0.98387097, 0.9516129 , 0.96774194, 0.98373984,\n       0.98373984, 0.98373984, 0.98373984, 1.        , 0.97560976,\n       0.93548387, 0.96774194, 0.98387097, 1.        , 0.99186992,\n       0.96747967, 0.99186992, 0.97560976, 0.97560976, 1.        ])"
     },
     "execution_count": 60,
     "metadata": {},
     "output_type": "execute_result"
    }
   ],
   "source": [
    "rkf = RepeatedKFold(n_splits=10, n_repeats=3)\n",
    "cross_val_score(cls, X_train, y_train, cv=rkf)"
   ],
   "metadata": {
    "collapsed": false,
    "ExecuteTime": {
     "end_time": "2024-04-21T09:07:28.924741Z",
     "start_time": "2024-04-21T09:07:28.771982Z"
    }
   },
   "id": "54100f14ebc62b66",
   "execution_count": 60
  },
  {
   "cell_type": "markdown",
   "source": [
    "Through the parameter n_jobs we select the number of cores for parallel execution."
   ],
   "metadata": {
    "collapsed": false
   },
   "id": "344590f52de86ef3"
  },
  {
   "cell_type": "code",
   "outputs": [
    {
     "data": {
      "text/plain": "{'whiskers': [<matplotlib.lines.Line2D at 0x12ee1f320>,\n  <matplotlib.lines.Line2D at 0x12ee1f650>,\n  <matplotlib.lines.Line2D at 0x12edfb7a0>,\n  <matplotlib.lines.Line2D at 0x12edfb5f0>,\n  <matplotlib.lines.Line2D at 0x12ef24bf0>,\n  <matplotlib.lines.Line2D at 0x12ef24e90>,\n  <matplotlib.lines.Line2D at 0x12ee12720>,\n  <matplotlib.lines.Line2D at 0x12ee10ef0>,\n  <matplotlib.lines.Line2D at 0x12ef267b0>,\n  <matplotlib.lines.Line2D at 0x12ef26a20>,\n  <matplotlib.lines.Line2D at 0x12ef27ad0>,\n  <matplotlib.lines.Line2D at 0x12ef27d70>,\n  <matplotlib.lines.Line2D at 0x12f470f80>,\n  <matplotlib.lines.Line2D at 0x12f471220>,\n  <matplotlib.lines.Line2D at 0x12f4723f0>,\n  <matplotlib.lines.Line2D at 0x12f472660>,\n  <matplotlib.lines.Line2D at 0x12f473860>,\n  <matplotlib.lines.Line2D at 0x12f473b00>],\n 'caps': [<matplotlib.lines.Line2D at 0x12ee1faa0>,\n  <matplotlib.lines.Line2D at 0x12ee1fdd0>,\n  <matplotlib.lines.Line2D at 0x12edfbd10>,\n  <matplotlib.lines.Line2D at 0x12e39aed0>,\n  <matplotlib.lines.Line2D at 0x12ef25970>,\n  <matplotlib.lines.Line2D at 0x12ee0b020>,\n  <matplotlib.lines.Line2D at 0x12ee10b60>,\n  <matplotlib.lines.Line2D at 0x12ef25940>,\n  <matplotlib.lines.Line2D at 0x12ef26c90>,\n  <matplotlib.lines.Line2D at 0x12ef26f30>,\n  <matplotlib.lines.Line2D at 0x12ef27fe0>,\n  <matplotlib.lines.Line2D at 0x12f4702f0>,\n  <matplotlib.lines.Line2D at 0x12f4714c0>,\n  <matplotlib.lines.Line2D at 0x12f471730>,\n  <matplotlib.lines.Line2D at 0x12f472900>,\n  <matplotlib.lines.Line2D at 0x12f472c00>,\n  <matplotlib.lines.Line2D at 0x12f473dd0>,\n  <matplotlib.lines.Line2D at 0x12f4a40e0>],\n 'boxes': [<matplotlib.lines.Line2D at 0x12ee1f1a0>,\n  <matplotlib.lines.Line2D at 0x12edfb470>,\n  <matplotlib.lines.Line2D at 0x12ef24920>,\n  <matplotlib.lines.Line2D at 0x12ee139e0>,\n  <matplotlib.lines.Line2D at 0x12ef264e0>,\n  <matplotlib.lines.Line2D at 0x12ef27890>,\n  <matplotlib.lines.Line2D at 0x12f470d10>,\n  <matplotlib.lines.Line2D at 0x12f472150>,\n  <matplotlib.lines.Line2D at 0x12f473620>],\n 'medians': [<matplotlib.lines.Line2D at 0x12ee1c110>,\n  <matplotlib.lines.Line2D at 0x12ef241a0>,\n  <matplotlib.lines.Line2D at 0x12ea7b5f0>,\n  <matplotlib.lines.Line2D at 0x12ef25ca0>,\n  <matplotlib.lines.Line2D at 0x12ef271a0>,\n  <matplotlib.lines.Line2D at 0x12f4705c0>,\n  <matplotlib.lines.Line2D at 0x12f4719a0>,\n  <matplotlib.lines.Line2D at 0x12f472ea0>,\n  <matplotlib.lines.Line2D at 0x12f4a4350>],\n 'fliers': [<matplotlib.lines.Line2D at 0x12ee1c4a0>,\n  <matplotlib.lines.Line2D at 0x12ef246e0>,\n  <matplotlib.lines.Line2D at 0x12ee102f0>,\n  <matplotlib.lines.Line2D at 0x12ef26270>,\n  <matplotlib.lines.Line2D at 0x12ef27680>,\n  <matplotlib.lines.Line2D at 0x12f470ad0>,\n  <matplotlib.lines.Line2D at 0x12f471eb0>,\n  <matplotlib.lines.Line2D at 0x12f4733b0>,\n  <matplotlib.lines.Line2D at 0x12f4a48c0>],\n 'means': [<matplotlib.lines.Line2D at 0x12ee1c350>,\n  <matplotlib.lines.Line2D at 0x12ef244a0>,\n  <matplotlib.lines.Line2D at 0x12ee0d340>,\n  <matplotlib.lines.Line2D at 0x12ef25fa0>,\n  <matplotlib.lines.Line2D at 0x12ef27410>,\n  <matplotlib.lines.Line2D at 0x12f470860>,\n  <matplotlib.lines.Line2D at 0x12f471c70>,\n  <matplotlib.lines.Line2D at 0x12f473140>,\n  <matplotlib.lines.Line2D at 0x12f4a4620>]}"
     },
     "execution_count": 61,
     "metadata": {},
     "output_type": "execute_result"
    },
    {
     "data": {
      "text/plain": "<Figure size 640x480 with 1 Axes>",
      "image/png": "[encoded data removed]"
     },
     "metadata": {},
     "output_type": "display_data"
    }
   ],
   "source": [
    "def eval_model_repetition(X, y, repeats):\n",
    "    cv = RepeatedKFold(n_splits=10, n_repeats=repeats, random_state=1)\n",
    "    cls = Perceptron()\n",
    "    scores = cross_val_score(cls, X, y, cv=cv, n_jobs=-1)\n",
    "    return scores\n",
    "\n",
    "repeats = range(1, 10)\n",
    "results = list()\n",
    "for i in repeats:\n",
    "    scores = eval_model_repetition(X_train, y_train, i)\n",
    "    results.append(scores)\n",
    "plt.boxplot(results, labels=[str(i) for i in repeats], showmeans=True)"
   ],
   "metadata": {
    "collapsed": false,
    "ExecuteTime": {
     "end_time": "2024-04-21T09:07:31.754001Z",
     "start_time": "2024-04-21T09:07:28.928459Z"
    }
   },
   "id": "dd74968339135e67",
   "execution_count": 61
  },
  {
   "cell_type": "markdown",
   "source": [
    "### Stratification\n",
    "\n",
    "In the case the class distribution is unbalanced, we have to apply stratified sampling, implemented by the classes StratifiedKFold and StratifiedShuffleSplit. It is guaranteed that the class distribution of each fold is similar the class distribution of the entire target vector."
   ],
   "metadata": {
    "collapsed": false
   },
   "id": "2fe0f26f55c663af"
  },
  {
   "cell_type": "code",
   "outputs": [
    {
     "name": "stdout",
     "output_type": "stream",
     "text": [
      "----K-fold CV----------------\n",
      "Train: 0.494327 vs Test: 0.000000\n",
      "Train: 0.494327 vs Test: 0.000000\n",
      "Train: 0.493927 vs Test: 0.000000\n",
      "Train: 0.493927 vs Test: 0.000000\n",
      "Train: 0.493927 vs Test: 0.000000\n",
      "Train: 0.443725 vs Test: 0.452555\n",
      "Train: 0.382996 vs Test: 1.000000\n",
      "Train: 0.382996 vs Test: 1.000000\n",
      "Train: 0.382996 vs Test: 1.000000\n",
      "Train: 0.382996 vs Test: 1.000000\n",
      "----Stratified K-fold CV--------------\n",
      "Train: 0.444895 vs Test: 0.442029\n",
      "Train: 0.444895 vs Test: 0.442029\n",
      "Train: 0.444534 vs Test: 0.445255\n",
      "Train: 0.444534 vs Test: 0.445255\n",
      "Train: 0.444534 vs Test: 0.445255\n",
      "Train: 0.444534 vs Test: 0.445255\n",
      "Train: 0.444534 vs Test: 0.445255\n",
      "Train: 0.444534 vs Test: 0.445255\n",
      "Train: 0.444534 vs Test: 0.445255\n",
      "Train: 0.444534 vs Test: 0.445255\n"
     ]
    }
   ],
   "source": [
    "kf = KFold(n_splits=10)\n",
    "skf = StratifiedKFold(n_splits=10)\n",
    "print('----K-fold CV----------------')\n",
    "\n",
    "for train, test in kf.split(X, y):\n",
    "    y_train_split, y_test_split = y[train], y[test]\n",
    "    print('Train: {:2f} vs Test: {:2f}'.format(sum(y_train_split == 1) / len(y_train_split), sum(y_test_split == 1) / len(y_test_split)))\n",
    "print('----Stratified K-fold CV--------------')\n",
    "for train, test in skf.split(X, y):\n",
    "    y_train_split, y_test_split = y[train], y[test]\n",
    "    print('Train: {:2f} vs Test: {:2f}'.format(sum(y_train_split == 1) / len(y_train_split), sum(y_test_split == 1) / len(y_test_split)))"
   ],
   "metadata": {
    "collapsed": false,
    "ExecuteTime": {
     "end_time": "2024-04-21T09:07:31.777218Z",
     "start_time": "2024-04-21T09:07:31.756550Z"
    }
   },
   "id": "b155ab2c8b708546",
   "execution_count": 62
  },
  {
   "cell_type": "markdown",
   "source": [
    "### Learning and Validation curve\n",
    "\n",
    "Learning and validation curves represent useful tools for identifying issues related to overfitting or underfitting.\n",
    "\n",
    "If a model is too complex, we will expect overfitting and low generalization power. in this case, increasing the size of the training set. Indeed, we can report the accuracy of the model on the training and validation set as a function of the size of the training set, obtaining the learning curve."
   ],
   "metadata": {
    "collapsed": false
   },
   "id": "10aad1aa9eb9f2fd"
  },
  {
   "cell_type": "markdown",
   "source": [
    "In SKLearn we get all the elements for computing the learning curve through the method learning_curve."
   ],
   "metadata": {
    "collapsed": false
   },
   "id": "a34c994700a28954"
  },
  {
   "cell_type": "markdown",
   "source": [
    "We increase the number of training samples and we run cross-validation on each subset of the original training sample.\n",
    "We hope that 2 lines converge."
   ],
   "metadata": {
    "collapsed": false
   },
   "id": "dd6bf489dc390bf7"
  },
  {
   "cell_type": "code",
   "outputs": [],
   "source": [
    "logit_cls = LogisticRegression(max_iter=1000)"
   ],
   "metadata": {
    "collapsed": false,
    "ExecuteTime": {
     "end_time": "2024-04-21T09:07:31.784066Z",
     "start_time": "2024-04-21T09:07:31.779325Z"
    }
   },
   "id": "850e87e78729e795",
   "execution_count": 63
  },
  {
   "cell_type": "code",
   "outputs": [
    {
     "name": "stderr",
     "output_type": "stream",
     "text": [
      "/Users/aleksandrak/Desktop/ML-course-Labs/.venv/lib/python3.12/site-packages/sklearn/model_selection/_validation.py:547: FitFailedWarning: \n",
      "1 fits failed out of a total of 110.\n",
      "The score on these train-test partitions for these parameters will be set to nan.\n",
      "If these failures are not expected, you can try to debug them by setting error_score='raise'.\n",
      "\n",
      "Below are more details about the failures:\n",
      "--------------------------------------------------------------------------------\n",
      "1 fits failed with the following error:\n",
      "Traceback (most recent call last):\n",
      "  File \"/Users/aleksandrak/Desktop/ML-course-Labs/.venv/lib/python3.12/site-packages/sklearn/model_selection/_validation.py\", line 895, in _fit_and_score\n",
      "    estimator.fit(X_train, y_train, **fit_params)\n",
      "  File \"/Users/aleksandrak/Desktop/ML-course-Labs/.venv/lib/python3.12/site-packages/sklearn/base.py\", line 1474, in wrapper\n",
      "    return fit_method(estimator, *args, **kwargs)\n",
      "           ^^^^^^^^^^^^^^^^^^^^^^^^^^^^^^^^^^^^^^\n",
      "  File \"/Users/aleksandrak/Desktop/ML-course-Labs/.venv/lib/python3.12/site-packages/sklearn/linear_model/_logistic.py\", line 1246, in fit\n",
      "    raise ValueError(\n",
      "ValueError: This solver needs samples of at least 2 classes in the data, but the data contains only one class: 0\n",
      "\n",
      "  warnings.warn(some_fits_failed_message, FitFailedWarning)\n"
     ]
    }
   ],
   "source": [
    "train_sizes, train_scores, test_scores = learning_curve(logit_cls, # classifier, i.e. the model we want to evaluate\n",
    "                                                       X=X_train, \n",
    "                                                       y=y_train,\n",
    "                                                       train_sizes=[0.01, 0.1, 0.2, 0.3, 0.4, 0.5, 0.6, 0.7, 0.8, 0.9, 1.0], \n",
    "                                                       cv=10,\n",
    "                                                       n_jobs=-1, # to enforce parallelism\n",
    "                                                       shuffle=False) # we don't want shuffling"
   ],
   "metadata": {
    "collapsed": false,
    "ExecuteTime": {
     "end_time": "2024-04-21T09:07:32.054186Z",
     "start_time": "2024-04-21T09:07:31.786908Z"
    }
   },
   "id": "5bf32b463de30753",
   "execution_count": 64
  },
  {
   "cell_type": "markdown",
   "source": [
    "The most important parameters are train_size and cv.\n",
    "- train_sizes: the portion of the original X_Train to be maintained.\n",
    "- cv: cross-validation (K-Fold)"
   ],
   "metadata": {
    "collapsed": false
   },
   "id": "312f7ad31b28ee1c"
  },
  {
   "cell_type": "code",
   "outputs": [],
   "source": [
    "train_mean = np.mean(train_scores, axis=1)\n",
    "train_std = np.std(train_scores, axis=1)\n",
    "test_mean = np.mean(test_scores, axis=1)\n",
    "test_std = np.std(test_scores, axis=1)"
   ],
   "metadata": {
    "collapsed": false,
    "ExecuteTime": {
     "end_time": "2024-04-21T09:07:32.060695Z",
     "start_time": "2024-04-21T09:07:32.056690Z"
    }
   },
   "id": "b945c56f9d7ced1",
   "execution_count": 65
  },
  {
   "cell_type": "code",
   "outputs": [
    {
     "data": {
      "text/plain": "(0.87, 1.03)"
     },
     "execution_count": 66,
     "metadata": {},
     "output_type": "execute_result"
    },
    {
     "data": {
      "text/plain": "<Figure size 1200x700 with 1 Axes>",
      "image/png": "[encoded data removed]"
     },
     "metadata": {},
     "output_type": "display_data"
    }
   ],
   "source": [
    "fig = plt.figure(figsize=(12, 7))\n",
    "ax = fig.add_subplot()\n",
    "ax.plot(train_sizes, train_scores[:, 0],\n",
    "        color='blue', marker='o',\n",
    "        markersize=5, label='Training accuracy - fold 1')\n",
    "ax.plot(train_sizes, train_mean,\n",
    "        color='blue', marker='+',\n",
    "        markersize=5, label='Training accuracy')\n",
    "ax.fill_between(train_sizes, train_mean + train_std, \n",
    "                train_mean - train_std, alpha=0.15, color='blue')\n",
    "ax.plot(train_sizes, test_scores[:, 0],\n",
    "        color='green', linestyle='--',\n",
    "        marker='s', markersize=5,\n",
    "        label='Validation accuracy - fold 1')\n",
    "ax.plot(train_sizes, test_mean,\n",
    "        color='green', linestyle='--',\n",
    "        marker='d', markersize=5,\n",
    "        label='Validation accuracy')\n",
    "ax.fill_between(train_sizes, test_mean + test_std, \n",
    "                test_mean - test_std, alpha=0.15, color='green')\n",
    "\n",
    "ax.grid()\n",
    "ax.set_xlabel('Training set size')\n",
    "ax.set_ylabel('Accuracy')\n",
    "ax.legend(loc='lower right')\n",
    "ax.set_ylim([0.87, 1.03])"
   ],
   "metadata": {
    "collapsed": false,
    "ExecuteTime": {
     "end_time": "2024-04-21T09:07:32.495200Z",
     "start_time": "2024-04-21T09:07:32.062966Z"
    }
   },
   "id": "e9d7ed73817bffc0",
   "execution_count": 66
  },
  {
   "cell_type": "markdown",
   "source": [
    "- Low variance in the accuracy -> it's very stable.\n",
    "- On average there's no oferfitting, but algorithms is not very stable, the validation is higher than the training set."
   ],
   "metadata": {
    "collapsed": false
   },
   "id": "f1c9024256c1c06"
  },
  {
   "cell_type": "code",
   "outputs": [
    {
     "data": {
      "text/plain": "11"
     },
     "execution_count": 67,
     "metadata": {},
     "output_type": "execute_result"
    }
   ],
   "source": [
    "train_sizes[0]"
   ],
   "metadata": {
    "collapsed": false,
    "ExecuteTime": {
     "end_time": "2024-04-21T09:07:32.510400Z",
     "start_time": "2024-04-21T09:07:32.499075Z"
    }
   },
   "id": "bce9acc0d3d4d24e",
   "execution_count": 67
  },
  {
   "cell_type": "markdown",
   "source": [
    "Another tool for evaluating issues related to over-/under-fitting is the validation curve. In this case we vary the hyperparameters of the model.\n",
    "For LogisticRegression, the parameter C is the inverse of the regularization parameter lambda, so that by increasing C we reduce the regularization.\n",
    "In SKL we get all the elements for computing the validation curve through the method validation_curve."
   ],
   "metadata": {
    "collapsed": false
   },
   "id": "39050cb0df9f8d16"
  },
  {
   "cell_type": "code",
   "outputs": [],
   "source": [
    "range_C = [0.001, 0.01, 0.1, 1, 10, 100]\n",
    "train_scores, test_scores = validation_curve(logit_cls, X=X_train, y=y_train,\n",
    "                                             param_range=range_C, param_name='C', # we have to specify the name of the parameter\n",
    "                                             cv=10, n_jobs=-1)"
   ],
   "metadata": {
    "collapsed": false,
    "ExecuteTime": {
     "end_time": "2024-04-21T09:07:32.674164Z",
     "start_time": "2024-04-21T09:07:32.512939Z"
    }
   },
   "id": "4a4c99e85e8d9186",
   "execution_count": 68
  },
  {
   "cell_type": "code",
   "outputs": [],
   "source": [
    "train_mean = np.mean(train_scores, axis=1)\n",
    "train_std = np.std(train_scores, axis=1)\n",
    "test_mean = np.mean(test_scores, axis=1)\n",
    "test_std = np.std(test_scores, axis=1)"
   ],
   "metadata": {
    "collapsed": false,
    "ExecuteTime": {
     "end_time": "2024-04-21T09:07:32.680816Z",
     "start_time": "2024-04-21T09:07:32.676480Z"
    }
   },
   "id": "48a342716c16cb3c",
   "execution_count": 69
  },
  {
   "cell_type": "code",
   "outputs": [
    {
     "data": {
      "text/plain": "(0.0, 1.03)"
     },
     "execution_count": 70,
     "metadata": {},
     "output_type": "execute_result"
    },
    {
     "data": {
      "text/plain": "<Figure size 1200x700 with 1 Axes>",
      "image/png": "[encoded data removed]"
     },
     "metadata": {},
     "output_type": "display_data"
    }
   ],
   "source": [
    "fig = plt.figure(figsize=(12, 7))\n",
    "ax = fig.add_subplot()\n",
    "\n",
    "ax.plot(range_C, train_mean,\n",
    "        color='blue', marker='o',\n",
    "        markersize=5, label='Training accuracy')\n",
    "\n",
    "ax.fill_between(range_C, train_mean + train_std, \n",
    "                train_mean - train_std, alpha=0.15, color='blue')\n",
    "\n",
    "ax.plot(range_C, test_mean,\n",
    "        color='green', linestyle='--',\n",
    "        marker='s', markersize=5,\n",
    "        label='Validation accuracy')\n",
    "\n",
    "ax.fill_between(range_C, test_mean + test_std, \n",
    "                test_mean - test_std, alpha=0.15, color='green')\n",
    "\n",
    "ax.grid()\n",
    "ax.set_xlabel('Parameter C')\n",
    "ax.set_ylabel('Accuracy')\n",
    "ax.legend(loc='lower right')\n",
    "ax.set_ylim([0.6, 1.03])\n",
    "ax.set_xlim([0., 1.03])"
   ],
   "metadata": {
    "collapsed": false,
    "ExecuteTime": {
     "end_time": "2024-04-21T09:07:33.017964Z",
     "start_time": "2024-04-21T09:07:32.688032Z"
    }
   },
   "id": "72c371e7aa131a6c",
   "execution_count": 70
  },
  {
   "cell_type": "markdown",
   "source": [
    "There is no effect on overfitting, i.e. in terms of overfitting we can take C randomly. We will take 1.0 since we have the best result."
   ],
   "metadata": {
    "collapsed": false
   },
   "id": "e97082fc27b4a093"
  },
  {
   "cell_type": "code",
   "outputs": [],
   "source": [],
   "metadata": {
    "collapsed": false,
    "ExecuteTime": {
     "end_time": "2024-04-21T09:07:33.022886Z",
     "start_time": "2024-04-21T09:07:33.019650Z"
    }
   },
   "id": "89b349c44e9f121c",
   "execution_count": 70
  }
 ],
 "metadata": {
  "kernelspec": {
   "display_name": "Python 3",
   "language": "python",
   "name": "python3"
  },
  "language_info": {
   "codemirror_mode": {
    "name": "ipython",
    "version": 2
   },
   "file_extension": ".py",
   "mimetype": "text/x-python",
   "name": "python",
   "nbconvert_exporter": "python",
   "pygments_lexer": "ipython2",
   "version": "2.7.6"
  }
 },
 "nbformat": 4,
 "nbformat_minor": 5
}
