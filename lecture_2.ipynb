{
 "cells": [
  {
   "cell_type": "markdown",
   "source": [
    "# Lecture 2: Notation, Scikit and Feature Engineering\n",
    "\n",
    "## Notation in Numpy"
   ],
   "metadata": {
    "collapsed": false
   },
   "id": "d3b5eea9fa5b5b66"
  },
  {
   "cell_type": "code",
   "outputs": [],
   "source": [
    "import numpy as np"
   ],
   "metadata": {
    "collapsed": true,
    "ExecuteTime": {
     "end_time": "2024-03-31T20:29:36.735018Z",
     "start_time": "2024-03-31T20:29:36.732Z"
    }
   },
   "id": "initial_id",
   "execution_count": 9
  },
  {
   "cell_type": "markdown",
   "source": [
    "### Scalar\n",
    "\n",
    "Numpy is the most important package for linear algebra, fast array - vector - operations and primitives.\n",
    "But, in Numpy there is no specific data type for scalars, rather we use the standard data types for integer and float in Python."
   ],
   "metadata": {
    "collapsed": false
   },
   "id": "18b63fbcacb1a052"
  },
  {
   "cell_type": "code",
   "outputs": [],
   "source": [
    "a = 3.5 # connect the name to the object\n",
    "w = 10"
   ],
   "metadata": {
    "collapsed": false,
    "ExecuteTime": {
     "end_time": "2024-03-31T20:29:36.806541Z",
     "start_time": "2024-03-31T20:29:36.802660Z"
    }
   },
   "id": "b5a7a75aa7bd87dc",
   "execution_count": 10
  },
  {
   "cell_type": "markdown",
   "source": [
    "### Vector\n",
    "\n",
    "To create a vector we use the array() function (this function takes the list and transforms it to the vector). By this function we can create any n-dimensional array, e.g. matrix and tensors. Numpy uses a ROW representation for vector, the opposite w.r.t. to the notation, but it is only the matter of transposing."
   ],
   "metadata": {
    "collapsed": false
   },
   "id": "f36cf481d587fbc6"
  },
  {
   "cell_type": "code",
   "outputs": [],
   "source": [
    "w_vec = np.array([1, 2, 3, 4.5])"
   ],
   "metadata": {
    "collapsed": false,
    "ExecuteTime": {
     "end_time": "2024-03-31T20:29:36.822630Z",
     "start_time": "2024-03-31T20:29:36.819486Z"
    }
   },
   "id": "964709586ff41594",
   "execution_count": 11
  },
  {
   "cell_type": "markdown",
   "source": [
    "Since at least one of the scalars in the vector is a float, the dtype of the vector is float64, i.e. each element of the vector is a float."
   ],
   "metadata": {
    "collapsed": false
   },
   "id": "f032312e05b19fd4"
  },
  {
   "cell_type": "code",
   "outputs": [
    {
     "data": {
      "text/plain": "dtype('float64')"
     },
     "execution_count": 12,
     "metadata": {},
     "output_type": "execute_result"
    }
   ],
   "source": [
    "w_vec.dtype"
   ],
   "metadata": {
    "collapsed": false,
    "ExecuteTime": {
     "end_time": "2024-03-31T20:29:36.836813Z",
     "start_time": "2024-03-31T20:29:36.831958Z"
    }
   },
   "id": "7a5ee09df57194ba",
   "execution_count": 12
  },
  {
   "cell_type": "markdown",
   "source": [
    "An array is basically a list, so it supports most of the basic operations on the list, e.g. indexing and slicing (we take subvector from the vector)."
   ],
   "metadata": {
    "collapsed": false
   },
   "id": "4713c634c0be6e75"
  },
  {
   "cell_type": "code",
   "outputs": [
    {
     "data": {
      "text/plain": "2.0"
     },
     "execution_count": 13,
     "metadata": {},
     "output_type": "execute_result"
    }
   ],
   "source": [
    "w_vec[1] # we are indexing the second element / second dimension of the vector w_vec"
   ],
   "metadata": {
    "collapsed": false,
    "ExecuteTime": {
     "end_time": "2024-03-31T20:29:36.858848Z",
     "start_time": "2024-03-31T20:29:36.852801Z"
    }
   },
   "id": "3de5a577bca75e4b",
   "execution_count": 13
  },
  {
   "cell_type": "code",
   "outputs": [
    {
     "data": {
      "text/plain": "array([2., 3.])"
     },
     "execution_count": 14,
     "metadata": {},
     "output_type": "execute_result"
    }
   ],
   "source": [
    "w_vec[1:3] # we are taking a subvector starting from index 1 and ending at index 2 included"
   ],
   "metadata": {
    "collapsed": false,
    "ExecuteTime": {
     "end_time": "2024-03-31T20:29:36.875533Z",
     "start_time": "2024-03-31T20:29:36.870535Z"
    }
   },
   "id": "a1d824fe92673673",
   "execution_count": 14
  },
  {
   "cell_type": "markdown",
   "source": [
    "### Matrix\n",
    "\n",
    "The function array() can also create matrices intended as a 2-dimensional arrays with nested brackets. To create a n*d matrix, we must stack n rows of d-dimensional vectors."
   ],
   "metadata": {
    "collapsed": false
   },
   "id": "8bc056ff02b5c90a"
  },
  {
   "cell_type": "code",
   "outputs": [
    {
     "data": {
      "text/plain": "array([[1. , 4. , 7. ],\n       [4.9, 4. , 2. ]])"
     },
     "execution_count": 15,
     "metadata": {},
     "output_type": "execute_result"
    }
   ],
   "source": [
    "W = np.array([\n",
    "    [1, 4, 7],\n",
    "    [4.9, 4, 2]\n",
    "])\n",
    "# 2 x 3 matrix\n",
    "W"
   ],
   "metadata": {
    "collapsed": false,
    "ExecuteTime": {
     "end_time": "2024-03-31T20:29:36.886214Z",
     "start_time": "2024-03-31T20:29:36.878704Z"
    }
   },
   "id": "3066a403bf3eca32",
   "execution_count": 15
  },
  {
   "cell_type": "markdown",
   "source": [
    "To select a specific row with index j, we use the standard indexing and slicing operations. The same holds for selecting columns."
   ],
   "metadata": {
    "collapsed": false
   },
   "id": "f184953fa5fafaa"
  },
  {
   "cell_type": "code",
   "outputs": [
    {
     "data": {
      "text/plain": "(array([1., 4., 7.]), array([1., 4., 7.]))"
     },
     "execution_count": 16,
     "metadata": {},
     "output_type": "execute_result"
    }
   ],
   "source": [
    "W[0][:], W[0, :] # select row with index 0"
   ],
   "metadata": {
    "collapsed": false,
    "ExecuteTime": {
     "end_time": "2024-03-31T20:29:36.954173Z",
     "start_time": "2024-03-31T20:29:36.947213Z"
    }
   },
   "id": "62fc8157ac9e0d79",
   "execution_count": 16
  },
  {
   "cell_type": "code",
   "outputs": [
    {
     "data": {
      "text/plain": "array([[1. , 4. ],\n       [4.9, 4. ]])"
     },
     "execution_count": 17,
     "metadata": {},
     "output_type": "execute_result"
    }
   ],
   "source": [
    "W[:, :2] # select submatrix"
   ],
   "metadata": {
    "collapsed": false,
    "ExecuteTime": {
     "end_time": "2024-03-31T20:29:36.973103Z",
     "start_time": "2024-03-31T20:29:36.968364Z"
    }
   },
   "id": "172a022b245da6f",
   "execution_count": 17
  },
  {
   "cell_type": "code",
   "outputs": [
    {
     "data": {
      "text/plain": "array([4., 4.])"
     },
     "execution_count": 18,
     "metadata": {},
     "output_type": "execute_result"
    }
   ],
   "source": [
    "W[:, 1] # select column with index 1"
   ],
   "metadata": {
    "collapsed": false,
    "ExecuteTime": {
     "end_time": "2024-03-31T20:29:37.035905Z",
     "start_time": "2024-03-31T20:29:37.028749Z"
    }
   },
   "id": "58a6ab6615920db3",
   "execution_count": 18
  },
  {
   "cell_type": "markdown",
   "source": [
    "### Shape\n",
    "\n",
    "The shape of an array returns the number of scalars for each dimension. We can access the shape of an array by the attribute shape. Sort of debugging function to check if we have appropriate dimensions."
   ],
   "metadata": {
    "collapsed": false
   },
   "id": "9809528d26aae993"
  },
  {
   "cell_type": "code",
   "outputs": [
    {
     "data": {
      "text/plain": "((2, 3), (4,))"
     },
     "execution_count": 19,
     "metadata": {},
     "output_type": "execute_result"
    }
   ],
   "source": [
    "W.shape, w_vec.shape"
   ],
   "metadata": {
    "collapsed": false,
    "ExecuteTime": {
     "end_time": "2024-03-31T20:29:37.059141Z",
     "start_time": "2024-03-31T20:29:37.052364Z"
    }
   },
   "id": "8d37c2dff4ffc4b",
   "execution_count": 19
  },
  {
   "cell_type": "markdown",
   "source": [
    "### Transpose\n",
    "\n",
    "The transpose of a vector or matrix can be obtained by the operator T."
   ],
   "metadata": {
    "collapsed": false
   },
   "id": "15058a77a41e68bf"
  },
  {
   "cell_type": "code",
   "outputs": [
    {
     "data": {
      "text/plain": "array([[1. , 4.9],\n       [4. , 4. ],\n       [7. , 2. ]])"
     },
     "execution_count": 20,
     "metadata": {},
     "output_type": "execute_result"
    }
   ],
   "source": [
    "W_T = W.T\n",
    "W_T"
   ],
   "metadata": {
    "collapsed": false,
    "ExecuteTime": {
     "end_time": "2024-03-31T20:29:37.121540Z",
     "start_time": "2024-03-31T20:29:37.116205Z"
    }
   },
   "id": "54ea42c2f5bc021f",
   "execution_count": 20
  },
  {
   "cell_type": "code",
   "outputs": [
    {
     "data": {
      "text/plain": "((2, 3), (3, 2))"
     },
     "execution_count": 21,
     "metadata": {},
     "output_type": "execute_result"
    }
   ],
   "source": [
    "W.shape, W_T.shape"
   ],
   "metadata": {
    "collapsed": false,
    "ExecuteTime": {
     "end_time": "2024-03-31T20:29:37.138941Z",
     "start_time": "2024-03-31T20:29:37.133611Z"
    }
   },
   "id": "bf2632654e708103",
   "execution_count": 21
  },
  {
   "cell_type": "markdown",
   "source": [
    "## Operations on Vectors and Matrices\n",
    "\n",
    "- Summing two vectors: x + y\n",
    "- Multiplying a vector by a scalar: a*x\n",
    "- Inner product of two vectors: x.dot(y) or np.dot(x, y)\n",
    "- Hadamard product of two vectors: x * y"
   ],
   "metadata": {
    "collapsed": false
   },
   "id": "81ad2400ccadd9e"
  },
  {
   "cell_type": "code",
   "outputs": [],
   "source": [
    "x_vec, y_vec = np.array([1, 2, 3, 4]), np.array([6, 7, 8, 9])"
   ],
   "metadata": {
    "collapsed": false,
    "ExecuteTime": {
     "end_time": "2024-03-31T20:29:37.155972Z",
     "start_time": "2024-03-31T20:29:37.152445Z"
    }
   },
   "id": "54c0ee9f1f750f44",
   "execution_count": 22
  },
  {
   "cell_type": "code",
   "outputs": [
    {
     "data": {
      "text/plain": "array([ 7,  9, 11, 13])"
     },
     "execution_count": 23,
     "metadata": {},
     "output_type": "execute_result"
    }
   ],
   "source": [
    "x_vec + y_vec"
   ],
   "metadata": {
    "collapsed": false,
    "ExecuteTime": {
     "end_time": "2024-03-31T20:29:54.743789Z",
     "start_time": "2024-03-31T20:29:54.736225Z"
    }
   },
   "id": "b1964090c82fa47f",
   "execution_count": 23
  },
  {
   "cell_type": "code",
   "outputs": [
    {
     "data": {
      "text/plain": "array([ 3.5,  7. , 10.5, 14. ])"
     },
     "execution_count": 24,
     "metadata": {},
     "output_type": "execute_result"
    }
   ],
   "source": [
    "a * x_vec"
   ],
   "metadata": {
    "collapsed": false,
    "ExecuteTime": {
     "end_time": "2024-03-31T20:30:09.479527Z",
     "start_time": "2024-03-31T20:30:09.474544Z"
    }
   },
   "id": "11e9b86fdf271c46",
   "execution_count": 24
  },
  {
   "cell_type": "code",
   "outputs": [
    {
     "data": {
      "text/plain": "array([3, 4, 5, 6])"
     },
     "execution_count": 25,
     "metadata": {},
     "output_type": "execute_result"
    }
   ],
   "source": [
    "# vector and scalar summation\n",
    "x_vec + 2"
   ],
   "metadata": {
    "collapsed": false,
    "ExecuteTime": {
     "end_time": "2024-03-31T20:31:02.073457Z",
     "start_time": "2024-03-31T20:31:02.068091Z"
    }
   },
   "id": "a6f43404e1b3e0a0",
   "execution_count": 25
  },
  {
   "cell_type": "code",
   "outputs": [
    {
     "data": {
      "text/plain": "(80, 80)"
     },
     "execution_count": 26,
     "metadata": {},
     "output_type": "execute_result"
    }
   ],
   "source": [
    "x_vec.dot(y_vec), np.dot(x_vec, y_vec)"
   ],
   "metadata": {
    "collapsed": false,
    "ExecuteTime": {
     "end_time": "2024-03-31T20:31:58.179011Z",
     "start_time": "2024-03-31T20:31:58.174014Z"
    }
   },
   "id": "275aeead9e277d85",
   "execution_count": 26
  },
  {
   "cell_type": "code",
   "outputs": [
    {
     "data": {
      "text/plain": "array([ 6, 14, 24, 36])"
     },
     "execution_count": 27,
     "metadata": {},
     "output_type": "execute_result"
    }
   ],
   "source": [
    "x_vec * y_vec"
   ],
   "metadata": {
    "collapsed": false,
    "ExecuteTime": {
     "end_time": "2024-03-31T20:32:05.399014Z",
     "start_time": "2024-03-31T20:32:05.393112Z"
    }
   },
   "id": "4893e5cae4a88a71",
   "execution_count": 27
  },
  {
   "cell_type": "markdown",
   "source": [
    "- Multiplying a matrix by a vector: M.dot(x) or M @ x\n",
    "- Multiplying two matrices: np.dot(M1, M2) or M1 @ M2"
   ],
   "metadata": {
    "collapsed": false
   },
   "id": "d45763e64c9cb390"
  },
  {
   "cell_type": "code",
   "outputs": [],
   "source": [
    "A = np.array([\n",
    "    [1, 0, 1],\n",
    "    [0, 2, 1]\n",
    "])"
   ],
   "metadata": {
    "collapsed": false,
    "ExecuteTime": {
     "end_time": "2024-03-31T20:37:56.551325Z",
     "start_time": "2024-03-31T20:37:56.547351Z"
    }
   },
   "id": "bb93feb19114cf63",
   "execution_count": 28
  },
  {
   "cell_type": "code",
   "outputs": [
    {
     "data": {
      "text/plain": "array([13. , 15.8])"
     },
     "execution_count": 29,
     "metadata": {},
     "output_type": "execute_result"
    }
   ],
   "source": [
    "W @ np.array([2, 1, 1])"
   ],
   "metadata": {
    "collapsed": false,
    "ExecuteTime": {
     "end_time": "2024-03-31T20:38:09.332775Z",
     "start_time": "2024-03-31T20:38:09.324119Z"
    }
   },
   "id": "763952fa219ea537",
   "execution_count": 29
  },
  {
   "cell_type": "code",
   "outputs": [
    {
     "data": {
      "text/plain": "((2, 3), (2, 3))"
     },
     "execution_count": 30,
     "metadata": {},
     "output_type": "execute_result"
    }
   ],
   "source": [
    "W.shape, A.shape"
   ],
   "metadata": {
    "collapsed": false,
    "ExecuteTime": {
     "end_time": "2024-03-31T20:39:02.694552Z",
     "start_time": "2024-03-31T20:39:02.688434Z"
    }
   },
   "id": "f371022775cfe680",
   "execution_count": 30
  },
  {
   "cell_type": "code",
   "outputs": [
    {
     "data": {
      "text/plain": "array([[ 8. , 15. ],\n       [ 6.9, 10. ]])"
     },
     "execution_count": 31,
     "metadata": {},
     "output_type": "execute_result"
    }
   ],
   "source": [
    "W @ A.T"
   ],
   "metadata": {
    "collapsed": false,
    "ExecuteTime": {
     "end_time": "2024-03-31T20:39:18.875685Z",
     "start_time": "2024-03-31T20:39:18.866907Z"
    }
   },
   "id": "c902364e63a9280",
   "execution_count": 31
  },
  {
   "cell_type": "code",
   "outputs": [
    {
     "data": {
      "text/plain": "array([[1. , 9.8, 5.9],\n       [4. , 8. , 8. ],\n       [7. , 4. , 9. ]])"
     },
     "execution_count": 32,
     "metadata": {},
     "output_type": "execute_result"
    }
   ],
   "source": [
    "W.T @ A"
   ],
   "metadata": {
    "collapsed": false,
    "ExecuteTime": {
     "end_time": "2024-03-31T20:42:11.420076Z",
     "start_time": "2024-03-31T20:42:11.414929Z"
    }
   },
   "id": "9b5a173229a88f54",
   "execution_count": 32
  },
  {
   "cell_type": "markdown",
   "source": [
    "In Numpy, there is no straightforward function to computer the maximum of a function f(a),, but we may exploit list comprehension."
   ],
   "metadata": {
    "collapsed": false
   },
   "id": "be66b28c541e4f75"
  },
  {
   "cell_type": "code",
   "outputs": [
    {
     "data": {
      "text/plain": "100.0"
     },
     "execution_count": 33,
     "metadata": {},
     "output_type": "execute_result"
    }
   ],
   "source": [
    "S = [2, 3, 0.5, 6, 1, -10]\n",
    "def f(a):\n",
    "    return a**2\n",
    "\n",
    "np.max([f(a) for a in S]) "
   ],
   "metadata": {
    "collapsed": false,
    "ExecuteTime": {
     "end_time": "2024-03-31T20:46:44.791232Z",
     "start_time": "2024-03-31T20:46:44.785971Z"
    }
   },
   "id": "64d5543d58112746",
   "execution_count": 33
  },
  {
   "cell_type": "code",
   "outputs": [
    {
     "data": {
      "text/plain": "-10"
     },
     "execution_count": 34,
     "metadata": {},
     "output_type": "execute_result"
    }
   ],
   "source": [
    "S[np.argmax([f(a) for a in S])]"
   ],
   "metadata": {
    "collapsed": false,
    "ExecuteTime": {
     "end_time": "2024-03-31T20:47:10.935441Z",
     "start_time": "2024-03-31T20:47:10.928372Z"
    }
   },
   "id": "6596bf1407646eb2",
   "execution_count": 34
  },
  {
   "cell_type": "markdown",
   "source": [
    "## "
   ],
   "metadata": {
    "collapsed": false
   },
   "id": "73bcc8a0b12e9a43"
  }
 ],
 "metadata": {
  "kernelspec": {
   "display_name": "Python 3",
   "language": "python",
   "name": "python3"
  },
  "language_info": {
   "codemirror_mode": {
    "name": "ipython",
    "version": 2
   },
   "file_extension": ".py",
   "mimetype": "text/x-python",
   "name": "python",
   "nbconvert_exporter": "python",
   "pygments_lexer": "ipython2",
   "version": "2.7.6"
  }
 },
 "nbformat": 4,
 "nbformat_minor": 5
}
